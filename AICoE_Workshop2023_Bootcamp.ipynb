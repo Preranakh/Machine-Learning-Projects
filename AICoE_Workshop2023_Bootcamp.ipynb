{
  "nbformat": 4,
  "nbformat_minor": 0,
  "metadata": {
    "colab": {
      "provenance": [],
      "include_colab_link": true
    },
    "kernelspec": {
      "name": "python3",
      "display_name": "Python 3"
    },
    "language_info": {
      "name": "python"
    },
    "gpuClass": "standard"
  },
  "cells": [
    {
      "cell_type": "markdown",
      "metadata": {
        "id": "view-in-github",
        "colab_type": "text"
      },
      "source": [
        "<a href=\"https://colab.research.google.com/github/Preranakh/Machine-Learning-Projects/blob/main/AICoE_Workshop2023_Bootcamp.ipynb\" target=\"_parent\"><img src=\"https://colab.research.google.com/assets/colab-badge.svg\" alt=\"Open In Colab\"/></a>"
      ]
    },
    {
      "cell_type": "markdown",
      "source": [
        "# <font color='red'>**FIRST AICoE Workshop 2023 - Bootcamp**</font>\n",
        "\n",
        "\n",
        "\n",
        "\n",
        "\n"
      ],
      "metadata": {
        "id": "VnQsP068MKFM"
      }
    },
    {
      "cell_type": "markdown",
      "source": [
        "## **Getting started with Google Colab**"
      ],
      "metadata": {
        "id": "fT2WPvmahsz3"
      }
    },
    {
      "cell_type": "markdown",
      "source": [
        "### **What is Colab?**\n",
        "\n",
        "Colab, or \"Colaboratory\", allows you to write and execute Python in your browser, with\n",
        "- Zero configuration required\n",
        "- Access to GPUs free of charge\n",
        "- Easy sharing"
      ],
      "metadata": {
        "id": "aucYeRvta0D-"
      }
    },
    {
      "cell_type": "markdown",
      "source": [
        "### **Create/Open notebook**\n",
        "\n",
        "**Don't need to do this in this bootcamp. This is just for information.**\n",
        "\n",
        "*   TO CREATE: Go to [https://colab.research.google.com/](https://colab.research.google.com/) and click \"New Notebook\" button.\n",
        "\n",
        "*   TO OPEN: Go to https://colab.research.google.com/ and select one of the choices (Recent, Google Drive, Github, Upload)\n",
        "\n",
        "\n",
        "\n",
        "\n",
        "\n",
        "\n"
      ],
      "metadata": {
        "id": "RVebMz57GcWL"
      }
    },
    {
      "cell_type": "markdown",
      "metadata": {
        "id": "JyG45Qk3qQLS"
      },
      "source": [
        "### **Cells**\n",
        "A notebook is a list of cells. Cells may contain either text or executable code and its output. Click a cell to select it."
      ]
    },
    {
      "cell_type": "markdown",
      "metadata": {
        "id": "7bqjkGKwQSHW"
      },
      "source": [
        "### Adding and moving cells\n",
        "You can add new cells by using the **+ CODE** and **+ TEXT** buttons that show when you hover between cells. These buttons are also in the toolbar above the notebook where they can be used to add a cell below the currently selected cell.\n",
        "\n",
        "You can move a cell by selecting it and clicking **Cell Up** or **Cell Down**."
      ]
    },
    {
      "cell_type": "markdown",
      "source": [
        "### Code cells\n",
        "Below is a **code cell**. You can execute a code cell by clicking the **Play icon** in the left side of the cell.\n",
        "\n",
        "There are additional options for running some or all cells in the **Runtime** menu."
      ],
      "metadata": {
        "id": "GQ6mP--RL4MX"
      }
    },
    {
      "cell_type": "code",
      "execution_count": null,
      "metadata": {
        "cellView": "both",
        "id": "WUtu4316QSHL"
      },
      "outputs": [],
      "source": [
        "a = 10\n",
        "a"
      ]
    },
    {
      "cell_type": "markdown",
      "metadata": {
        "id": "Id6tDF1HQSHD"
      },
      "source": [
        "### Text cells\n",
        "This is a **text cell**. You can **double-click** to edit this cell. Text cells\n",
        "use markdown syntax. To learn more, see our [markdown\n",
        "guide](/notebooks/markdown_guide.ipynb)."
      ]
    },
    {
      "cell_type": "markdown",
      "source": [
        "# Enable GPU/TPU usage\n",
        "\n",
        "CPUs can process many general tasks. But if your model needs multiple calculations and require parallel computing, then you probably need GPU.\n",
        "\n",
        "If you need GPU for your programs,\n",
        "\n",
        " - Go to \"Runtime\" -> \"Change runtime type\" -> Select \"GPU\""
      ],
      "metadata": {
        "id": "fvj8wecfk2tX"
      }
    },
    {
      "cell_type": "markdown",
      "source": [
        "\n",
        "# Import libraries/install dependencies\n",
        "A great thing about Google Colab is that it comes with many preinstalled dependencies that are often used.\n",
        "\n",
        "- to check if the library you’re using is already installed use **!pip show**.\n",
        "For example, to check which version of pandas you are using you would use **!pip show pandas**\n",
        "- to import libraries/install dependencies use **!pip install** and **import** commands followed by the libraries/dependencies name.\n",
        "\n",
        "Any installations only remain for the duration of your session, so if you close the session/notebook, you’ll have to run inline installations whenever you open your project again."
      ],
      "metadata": {
        "id": "HuRn9TaLjoYK"
      }
    },
    {
      "cell_type": "markdown",
      "source": [
        "# Libraries for Bootcamp\n",
        "- **Pandas**: Pandas is a Python library used for working with data sets.\n",
        "It has functions for analyzing, cleaning, exploring, and manipulating data.\n",
        "- **NumPy**: NumPy is the fundamental package for scientific computing in Python. It is a Python library that provides a multidimensional array object, various derived objects, and an assortment of routines for fast operations on arrays.\n",
        "- **Scikit Learn**: Scikit-learn is a library for the Python programming language that is typically used in machine learning projects. Scikit-learn has simple and efficient tools for predictive data analysis."
      ],
      "metadata": {
        "id": "4Ppi0g2wpEYl"
      }
    },
    {
      "cell_type": "markdown",
      "source": [
        "# Machine Learning Workflow\n",
        "\n",
        "- Data Cleaning\n",
        "  - Problem: Columns that contain a single value\n",
        "  - Problem: Rows that contain duplicate data\n",
        "  - Problem: Missing values\n",
        "  - Problem: Outlier Identification and Removal\n",
        "- Encoding Data\n",
        "- Model Building\n",
        "- Evaluation\n",
        "- Improving Performance"
      ],
      "metadata": {
        "id": "QN_q32J5gJu6"
      }
    },
    {
      "cell_type": "markdown",
      "source": [
        "# Basic Data Cleaning"
      ],
      "metadata": {
        "id": "KmH7WSpgQcGI"
      }
    },
    {
      "cell_type": "markdown",
      "source": [
        "**-> Breast Cancer Dataset**\n",
        "\n",
        "\n",
        "Breast cancer dataset classifies breast cancer\n",
        "patient as either a recurrence or no recurrence of cancer.."
      ],
      "metadata": {
        "id": "a_YRZpYVlwrT"
      }
    },
    {
      "cell_type": "code",
      "source": [
        "! pip install wget\n",
        "! python -m wget \"https://raw.githubusercontent.com/jbrownlee/Datasets/master/breast-cancer.csv\" -o breast-cancer.csv\n",
        "\n",
        "from pandas import read_csv\n",
        "# load the dataset\n",
        "df = read_csv('breast-cancer.csv', header=None)\n",
        "# Peek into the top five rows\n",
        "df.head()"
      ],
      "metadata": {
        "id": "EPD5bFSUms-F"
      },
      "execution_count": null,
      "outputs": []
    },
    {
      "cell_type": "markdown",
      "source": [
        "\n",
        "\n",
        "```\n",
        "Number of Instances: 289\n",
        "Number of Attributes: 9 + the class attribute\n",
        "Attribute Information:   \n",
        "   0. age: 10-19, 20-29, 30-39, 40-49, 50-59, 60-69, 70-79, 80-89, 90-99.\n",
        "   1. menopause: lt40, ge40, premeno.\n",
        "   2. tumor-size: 0-4, 5-9, 10-14, 15-19, 20-24, 25-29, 30-34, 35-39, 40-44, 45-49, 50-54, 55-59.\n",
        "   3. inv-nodes: 0-2, 3-5, 6-8, 9-11, 12-14, 15-17, 18-20, 21-23, 24-26, 27-29, 30-32, 33-35, 36-39.\n",
        "   4. node-caps: yes, no.\n",
        "   5. deg-malig: 1, 2, 3.\n",
        "   6. breast: left, right.\n",
        "   7. breast-quad: left-up, left-low, right-up,\tright-low, central.\n",
        "   8. irradiat:\tyes, no.\n",
        "   9. Class: no-recurrence-events, recurrence-events\n",
        "Missing Attribute Values: (denoted by \"?\")\n",
        "   Attribute #:  Number of instances with missing values:\n",
        "   6.             8\n",
        "   9.             1.\n",
        "Class Distribution:\n",
        "    1. no-recurrence-events: 201 instances\n",
        "    2. recurrence-events: 85 instances\n",
        "```\n",
        "You can learn more about the dataset here:\n",
        "* Breast Cancer Dataset ([breast-cancer.csv](https://raw.githubusercontent.com/jbrownlee/Datasets/master/breast-cancer.csv))\n",
        "* Breast Cancer Dataset Description ([breast-cancer.names](https://raw.githubusercontent.com/jbrownlee/Datasets/master/breast-cancer.names))\n",
        "\n",
        "\n",
        "The messy dataset was modified from Breast Cancer Dataset.\n"
      ],
      "metadata": {
        "id": "giZ-tn6J7ktc"
      }
    },
    {
      "cell_type": "code",
      "source": [
        "! python -m wget \"https://raw.githubusercontent.com/pinarkullu/bootcamp2023/main/messy_dataset.csv\" -o messy_data.csv"
      ],
      "metadata": {
        "id": "4MvsLbWB-hSu"
      },
      "execution_count": null,
      "outputs": []
    },
    {
      "cell_type": "code",
      "source": [
        "from pandas import read_csv\n",
        "# load the dataset\n",
        "df = read_csv('messy_data.csv', header=None)\n",
        "# Peek into the top five rows\n",
        "df.head()"
      ],
      "metadata": {
        "id": "Fz3fYIjp_ea4"
      },
      "execution_count": null,
      "outputs": []
    },
    {
      "cell_type": "markdown",
      "source": [
        "### **Problem: Columns that contain a single value**"
      ],
      "metadata": {
        "id": "1bPtTttf_vga"
      }
    },
    {
      "cell_type": "markdown",
      "source": [
        "We can see that column index 5 only has a single value and should be removed.\n"
      ],
      "metadata": {
        "id": "OpjQlWtH_qcK"
      }
    },
    {
      "cell_type": "code",
      "source": [
        "# delete columns with a single unique value\n",
        "print(df.shape)\n",
        "# get number of unique values for each column\n",
        "counts = df.nunique()\n",
        "# record columns to delete\n",
        "to_del = [i for i,v in enumerate(counts) if v == 1]\n",
        "print(to_del)\n",
        "# drop useless columns\n",
        "df.drop(to_del, axis=1, inplace=True)\n",
        "print(df.shape)\n",
        "\n",
        "df.head()"
      ],
      "metadata": {
        "id": "738Abx8f_0-I"
      },
      "execution_count": null,
      "outputs": []
    },
    {
      "cell_type": "markdown",
      "source": [
        "### **Problem: Rows that contain duplicate data**"
      ],
      "metadata": {
        "id": "fOPZfL-JPe7U"
      }
    },
    {
      "cell_type": "code",
      "source": [
        "# delete rows of duplicate data from the dataset\n",
        "print(\"Before drop_duplicates function, the size of the dataset is\")\n",
        "print(df.shape)\n",
        "# delete duplicate rows and modify DataFrame rather than creating a new one\n",
        "df.drop_duplicates(inplace=True)\n",
        "print(\"After drop_duplicates function, the size of the dataset is\")\n",
        "print(df.shape)\n",
        "df.head()"
      ],
      "metadata": {
        "id": "G4VBQ_dIQEes"
      },
      "execution_count": null,
      "outputs": []
    },
    {
      "cell_type": "markdown",
      "source": [
        "### **Problem: Missing values**"
      ],
      "metadata": {
        "id": "LBZVBh7dVLGf"
      }
    },
    {
      "cell_type": "markdown",
      "source": [
        "For some columns, a value of zero does not make sense and indicates an invalid or missing value.\n",
        "\n",
        "In Python, specifically Pandas, NumPy and Scikit-Learn, we mark missing values as NaN.\n",
        "Values with a NaN are ignored from operations like sum, count, etc. We can mark values\n",
        "as NaN easily with the Pandas DataFrame by using the replace() function on a subset of\n",
        "the columns we are interested in."
      ],
      "metadata": {
        "id": "OOMxI86jws8X"
      }
    },
    {
      "cell_type": "code",
      "source": [
        "# Marking missing values with nan values\n",
        "from numpy import nan\n",
        "from pandas import read_csv\n",
        "# load the dataset\n",
        "# dataset = read_csv('messy_data.csv', header=None)\n",
        "# replace '0' values with 'nan'\n",
        "df[[6]] = df[[6]].replace(0, nan)\n",
        "# count the number of nan values in each column\n",
        "df.head()"
      ],
      "metadata": {
        "id": "uU-TQ-Ahwt2l"
      },
      "execution_count": null,
      "outputs": []
    },
    {
      "cell_type": "markdown",
      "source": [
        "### **Problem: Outlier Identification and Removal**"
      ],
      "metadata": {
        "id": "Hkf3av0hSYQv"
      }
    },
    {
      "cell_type": "markdown",
      "source": [
        "**What are the outliers?**\n",
        "\n",
        "An outlier is a sample that is exceptionally far from the\n",
        "mainstream of the data.\n",
        "\n",
        "Outliers can have many causes, such as:\n",
        "\n",
        "* Measurement or input error.\n",
        "\n",
        "* Data corruption.\n",
        "\n",
        "* True outlier observation.\n",
        "\n"
      ],
      "metadata": {
        "id": "2usLCydhTsuO"
      }
    },
    {
      "cell_type": "markdown",
      "source": [
        "Next, we can try removing outliers from the training dataset.\n",
        "\n",
        "We can use Local Outlier Factor algorithm. It is an unsupervised anomaly detection method. It marks each row in the dataset as normal (1) or an outlier (-1). So, we can select all rows that are not outliers.\n"
      ],
      "metadata": {
        "id": "sSUptaLmUW0B"
      }
    },
    {
      "cell_type": "markdown",
      "source": [
        "**Don't need to run this in this bootcamp. This is just for information. We cannot run this on our messy dataset. If you want to run outlier factor algorithm code you should upload another dataset that includes numerical values.**"
      ],
      "metadata": {
        "id": "zvPJrRsjGJGC"
      }
    },
    {
      "cell_type": "code",
      "source": [
        "!python -m wget \"https://raw.githubusercontent.com/jbrownlee/Datasets/master/pima-indians-diabetes.csv\" -o pima-indians-diabetes.csv"
      ],
      "metadata": {
        "id": "fLakA_TQGPpf"
      },
      "execution_count": null,
      "outputs": []
    },
    {
      "cell_type": "code",
      "source": [
        "from sklearn.neighbors import LocalOutlierFactor\n",
        "\n",
        "from pandas import read_csv\n",
        "# load the dataset\n",
        "df = read_csv('pima-indians-diabetes.csv', header=None)\n",
        "# retrieve the array\n",
        "data = df.values\n",
        "# split into input and output elements\n",
        "X, y = data[:, :-1], data[:, -1]\n",
        "print(X.shape, y.shape)\n",
        "# identify outliers in the training dataset\n",
        "# unsupervised anomaly detection method which computes the local density deviation of a given data point\n",
        "# with respect to its neighbors.\n",
        "# It considers as outliers the samples that have a substantially lower density than their neighbors.\n",
        "lof = LocalOutlierFactor()\n",
        "# Fit the model to the training set X and return the labels.\n",
        "yhat = lof.fit_predict(X)\n",
        "# select all rows that are not outliers\n",
        "mask = yhat != -1\n",
        "X, y = X[mask, :], y[mask]\n",
        "# summarize the shape of the updated training dataset\n",
        "print(X.shape, y.shape)"
      ],
      "metadata": {
        "id": "w-nYaegGQJuU"
      },
      "execution_count": null,
      "outputs": []
    },
    {
      "cell_type": "markdown",
      "source": [
        "#Encoding Data\n",
        "\n"
      ],
      "metadata": {
        "id": "mfyjWBlmvoQE"
      }
    },
    {
      "cell_type": "markdown",
      "source": [
        "Machine learning models require all input and output variables to be numeric. This means\n",
        "that if your data contains categorical data, you must encode it to numbers before you fit\n",
        "and evaluate a model.\n",
        "\n",
        "There are three common approaches for converting ordinal and categorical variables to numerical values. They are:    \n",
        "\n",
        "*   Ordinal Encoding\n",
        "*   One Hot Encoding\n",
        "*   Dummy Variable Encoding\n",
        "\n",
        "\n",
        "\n",
        "    \n",
        "    \n"
      ],
      "metadata": {
        "id": "PzI4Y70AXgqb"
      }
    },
    {
      "cell_type": "code",
      "source": [
        "# load and summarize the dataset\n",
        "from pandas import read_csv\n",
        "from sklearn.preprocessing import LabelEncoder\n",
        "from sklearn.preprocessing import OrdinalEncoder\n",
        "# load the dataset\n",
        "dataset = read_csv('breast-cancer.csv', header=None)\n",
        "print(dataset.head())\n",
        "# retrieve the array of data\n",
        "data = dataset.values\n",
        "# separate data into input and output columns\n",
        "X = data[:, :-1].astype(str)\n",
        "y = data[:, -1].astype(str)\n",
        "# summarize\n",
        "print('Input', X.shape)\n",
        "print('Output', y.shape)\n",
        "\n",
        "print(\"\\nAfter Ordinal Encoder\")\n",
        "ordinal_encoder = OrdinalEncoder()\n",
        "X = ordinal_encoder.fit_transform(X)\n",
        "# ordinal encode target variable\n",
        "label_encoder = LabelEncoder()\n",
        "y = label_encoder.fit_transform(y)\n",
        "# summarize the transformed data\n",
        "print('Input', X.shape)\n",
        "print(X[:5, :])\n",
        "print('Output', y.shape)\n",
        "print(y[:5])\n"
      ],
      "metadata": {
        "id": "wsaRq0cpYmXE"
      },
      "execution_count": null,
      "outputs": []
    },
    {
      "cell_type": "markdown",
      "source": [
        "We can encode the features to ordinal encoded integers easily with the OrdinalEncoder of Scikit-learn. This results in a single column of integers between 0 and number of categories per feature."
      ],
      "metadata": {
        "id": "J9D0Oh56ZEIk"
      }
    },
    {
      "cell_type": "markdown",
      "source": [
        "OrdinalEncoder is for 2D data with the shape (n_samples, n_features)\n",
        "\n",
        "LabelEncoder is for 1D data with the shape (n_samples,)\n"
      ],
      "metadata": {
        "id": "REB-oo0i9h9n"
      }
    },
    {
      "cell_type": "markdown",
      "source": [
        "### Scaling\n",
        "\n",
        "Some algorithms are not scale invariant, they behave badly if the individual features do not look like normally distributed data.\n",
        "\n",
        "Models such linear or logistic regression are typically sensitive to the magnitude or scale of features. Tree based models can still work without feature scaling.\n",
        "\n",
        "It is highly recommended to normalize and scale down the features with feature scaling."
      ],
      "metadata": {
        "id": "OGtCJJ97aVEK"
      }
    },
    {
      "cell_type": "code",
      "source": [
        "from sklearn.preprocessing import StandardScaler\n",
        "from sklearn.preprocessing import MinMaxScaler\n",
        "print(\"Before feature scaling:\")\n",
        "print(X[:2, :])\n",
        "sc = StandardScaler()\n",
        "X = sc.fit_transform(X)\n",
        "print(\"\\nAfter feature scaling:\")\n",
        "print(X[:2, :])"
      ],
      "metadata": {
        "id": "zWgksmNTahRc"
      },
      "execution_count": null,
      "outputs": []
    },
    {
      "cell_type": "markdown",
      "source": [
        "The entire data set scales with a zero mean and unit variance."
      ],
      "metadata": {
        "id": "6hQZCQY-2WuW"
      }
    },
    {
      "cell_type": "markdown",
      "source": [
        "# Model Building and Evaluation"
      ],
      "metadata": {
        "id": "_rGgHC-krseq"
      }
    },
    {
      "cell_type": "markdown",
      "source": [
        "You are ready to build your machine learning model."
      ],
      "metadata": {
        "id": "7hCDiN508afY"
      }
    },
    {
      "cell_type": "markdown",
      "source": [
        "###Import “Breast Cancer Wisconsin” dataset\n",
        "\n",
        "The dataset can be found in *sklearn.datasets*.\n",
        "\n",
        "Use \"load_DATASET()\" function to upload your dataset, where DATASET refers to the name of the dataset.\n",
        "\n",
        "You can find detailed information about *sklearn.datasets*, click [here](https://scikit-learn.org/stable/modules/classes.html#module-sklearn.datasets)."
      ],
      "metadata": {
        "id": "A1KzcrZvjiBe"
      }
    },
    {
      "cell_type": "code",
      "source": [
        "from sklearn import datasets, metrics\n",
        "bc = datasets.load_breast_cancer()"
      ],
      "metadata": {
        "id": "MjAHF4iUjujb"
      },
      "execution_count": null,
      "outputs": []
    },
    {
      "cell_type": "markdown",
      "source": [
        "All of Scikit-Learn datasets are divided into data and target.\n",
        "- data represents the features, which are the variables that help the model learn how to predict.\n",
        "- target includes the actual labels.\n",
        "\n",
        "In our case, the target data is one column classifies the tumor as either 0 indicating spreading or 1 for non-spreading."
      ],
      "metadata": {
        "id": "pfr8dq38lQeX"
      }
    },
    {
      "cell_type": "markdown",
      "source": [
        "### Train & Test Datasets\n",
        "First, let’s split the dataset into two, one for training the model — giving it data to learn from, and the second for testing the model — seeing how well the model performs on data (scans) it hasn’t seen before."
      ],
      "metadata": {
        "id": "RKzRQ2UDm2N1"
      }
    },
    {
      "cell_type": "code",
      "source": [
        "# Store the feature data\n",
        "X = bc.data\n",
        "# store the target data\n",
        "y = bc.target\n",
        "# split the data using Scikit-Learn's train_test_split\n",
        "from sklearn.model_selection import train_test_split\n",
        "# test_size represents the proportion of the dataset to include in the test\n",
        "X_train, X_test, y_train, y_test = train_test_split(X, y, test_size=0.3, random_state=30)\n",
        "print(X.shape)\n",
        "print(X_train.shape)\n",
        "print(X_test.shape)"
      ],
      "metadata": {
        "id": "F7N00PFYm4eO"
      },
      "execution_count": null,
      "outputs": []
    },
    {
      "cell_type": "markdown",
      "source": [
        "This gives us two datasets —one for training and one for testing.\n",
        "\n"
      ],
      "metadata": {
        "id": "oAEqd7Aum_G7"
      }
    },
    {
      "cell_type": "markdown",
      "source": [
        "Now we're ready to build a model that classifies cancer tumors as spreading or non-spreading. This will show you how to use the data for your own models.\n",
        "\n",
        "We’ll build a simple Support vector machine model.\n",
        "\n",
        "The Support Vector Machine is a supervised learning algorithm mostly used for classification, but it can be used also for regression. The main idea is that based on the labeled data the algorithm tries to construct the optimal hyperplane which can be used to classify new data points.\n"
      ],
      "metadata": {
        "id": "w60IntSFarpF"
      }
    },
    {
      "cell_type": "markdown",
      "source": [
        "![svc.png](data:image/png;base64,iVBORw0KGgoAAAANSUhEUgAAAgAAAAGACAYAAADbINq/AAAAAXNSR0IArs4c6QAAAARnQU1BAACxjwv8YQUAAAAJcEhZcwAAD2EAAA9hAag/p2kAAAA5dEVYdFNvZnR3YXJlAE1hdHBsb3RsaWIgdmVyc2lvbjMuNi4yLCBodHRwczovL21hdHBsb3RsaWIub3JnLyjoGGIAAFmoSURBVHhe7Z0HfFRV2sbfTCa9kAQSepUWelOaFJGyKqAiIJbdBbGhH2vvfUFlQV3bioourKIoKEUUQbqgBJBepdfQQnrPzOS7z8m9MESQljL33ue/v+PM3LlhB3LmnOe81a9QQwghhBBiKxz6IyGEEEJsBAUAIYQQYkMoAAghhBAbQgFACCGE2BAKAEIIIcSGUAAQQgghNoQCgBBCCLEhFACEEEKIDaEAIIQQQmwIBQAhhBBiQygACCGEEBtCAUAIIYTYEAoAQgghxIZQABBCCCE2hAKAEEIIsSEUAIQQQogNoQAghBBCbAgFACGEEGJDKAAIIYQQG0IBQAghhNgQCgBCCCHEhlAAEEIIITaEAoAQQgixIRQAhBBCiA2hACCEEEJsCAUAIYQQYkMoAAghhBAbQgFACCGE2BAKAEIIIcSGUAAQQgghNoQCgBBCCLEhFACEEEKIDaEAIIQQQmwIBQAhhBBiQygACCGEEBtCAUAIIYTYEAoAQgghxIZQABBCCCE2hAKAEEIIsSEUAIQQQogNoQAghBBCbAgFACGEEGJDKAAIIYQQG0IBQAghhNgQCgBCCCHEhvgVaujPbUmXLl0kICBAf0UIIYScHbfbLX379pUnnnhCv2JubC8A/Pz8ZP369ZKVlaVfIYQQQs4EB8WEhAT55ptvZOnSpfpVc0MBoAkAm/8TEEIIuQB+++03dfpfvHixfsXcMAaAEEIIuQDy8/P1Z9aAAoAQQgixIRQAhBBCiA2hACCEEEJsCAUAIYQQYkMoAAghhBAbQgFACCGE2BAKAEIIIcSGUAAQQgghNoQCgBBCCLEhFACEEEKIDaEAIIQQQmwIBQAhhBBiQygACCGEEBtCAUAIIYTYEAoAQgghxIZQABBCCCE2hAKAEEIIsSEUAIQQQogNoQAghJgKt6dQXG6P/ooQcqlQABBCTMPOExmyYt9J+XnPSdmQmCbZ+W79HULIxUIBQAgxBWsPpcove5NlT3K2HE7PkTXq9UlNBLj0OwghFwMFACHE50nOzpedSVkS4HSI018bDocEa8+PZOTKjhOZ+l2EkIuBAoAQ4vMkpuVKgdstftpzDODnV/QsOadAxQUQQi4OCgBCiM8THOAQh77hGxTqe36Aw0/8tUEIuTgoAAghPk/NqBAJ9HeoTf/0Wb9QEwUi1bX3CCEXDwUAIcTnCXL6S4/6lSTP5ZbcAm1ojxm5LmlepYLUiwnV7yKEXAwUAIQQUxATFiR3ta8j1zeKk+5XVJK7O9SWltUraO/Q/E/IpUABQAgxFVUqhEjdmDDxd3D5IuRy4DeIEEIIsSEUAIQQQogNoQAghBBCbIglBMDhw4dl2rRp8s4778hXX30lSUlJ+juEEEIIORumFwAul0s+//xzmTJlihw/fly+/fZbGT58uBw7dky/gxBCCCHFMb0A8Pf3l/vuu0+JgFdffVUmTJggycnJsnDhQv0OQgghhBTH9AIA9cCjo6MlLCxMvYYgKCwslIiICPW6OLt27ZKff/5ZVqxYIb/99psEBgbq7xBCzgW+U6m5+bLteIYcSs1ShXgIIebGT/ti+3QXjfz8fJk9e7bs3btXnE6nfrWIrKwseeSRRyQ09HQlsP/7v/+T/fv3y9SpUyUk5I8lQseOHSszZ86U4OBgcTgcsnbtWmUxIIScnQK3RzYcTpMtx9NF9dzRRlRIgHSqHS2VI1mGl9iHX3/9VZ577jlZvHixfsXc+LwFAPoE/nwIgH379p0x9uzZI2736ZPIiy++KKtWrZJJkyaddfMHTz75pPolLlq0SBYsWCApKSn6O4SQs7EvOUu2aif/oha8/qosb0aeS5buOanfQQgxIz5vAbhQRo0aJRMnTlSi4GKAC8Ei/wSElDguj0eW7T4pB9NyJMD/9HkBX5mcApfc1LyqVAwN0q8SYm1oAfBBnn/+eXX6Hz9+vPLvz5kzR6UGEkIuj0JPkQgo1olXld+HeM53aTcQQkyJ6QVAQUGBxMXFyS233CLvv/++vP766zJmzBjZsmWLfgch5FIJcDqkUniQaBrglKVM/Vd7jv78VSOD1TVCiPmwjAvgUqELgJA/B/7+JbtOSFJ2vooDwObv0UbbGlHSrCq68RFiD+gCIITYioggp/RuGCdX1YyW6JAAqR0TKr0bxXHzJ8TkUAAQnwL+ZlpkfI+gAH9pWiVS+japIl3rVZKqFk3/yy1wy+6kLFl1IFl2JmVKPusdEAtDAUB8gpTsfFl/OFWW7Tkpqw+mypH0XP0dQsqGrHyX/LD1qCzdkyTbj2fKz9pcnPf7cUnJydfvIMRaUACQcudEVp5adDckpsuh1BzZeixDlu5Okn3JmfodhJQ+CfuTJTPfLSEB/irlMcTp0Db/AtmozUtapYgVoQAg5Qoqy+06kSVpOS5t0fUTf23hDdIWXpf2xi/7WKSJlA2ZeQWSkl0gTm0OGiBAGJkOqTn52ijQrxJiHSgASLmS53LLkbRc8Xf4qQXXWH7xOqfArRZmQi6Hw6k5MmtzokxI2CufrTkgGxLTVHljb853vuf5n1gRCgBSruDAFRhQvMoMMs2KltxgJ6couXSOZeTK4t0nJD3PLWGBAdp885N1h1Nl7aEUbVM/va1HBAVIZEiAsjwB/BdzEOmOFbTr6H1AiNXg6krKlUCnv9SoEKIWXiy4auHVBl5XiQgSp7+/uo+QS2HjkaIGRk5lYdIWPO0/8O/vSsqSzDyXflcRHWvFaILTT2UCuN0eyXV5JDzQKc2rVFA/V9YkZeXJ5iNpsudk1h8sFoSUBBQApNyJrxwp1SsEKZN/gcstOfkutfAi3YyQy+FoepF7yRu4mnJdhZJVTABEBDulX5Oq0qFOjNSNCZWrNEHQt0llqRhW1i3DC2XNwRRZtOOErE9Ml5UHUmT2liOSnkt3GClZKABIuYOgv14NK8ugVjWko7b43ti0mgxoUU0ig2l2JZdHxfBA8ehm/VMUForTXyQ06I/zK1QTnvFxEXK1Jj6bVYlQFqqyZtuxDNmgnfwLtM8J7QLLWHaBR2ZuStTvIKRkoAAgPkNkkFMaxkZIJW3RJqQkaFE1Upn+jQJT8OkXuAulfsUICQ/0PfeSS/tsRzPyJMDhUG4HFRirDYemBDQNICez8vQ7zQXcKmgrveN4hhxKzdb+nnRp+AIUAIQQy4L4kva1YyQqOEB1LsSJuknlCGldPbJc/PrnA1EwanMs9tnwCp8914QbZ3J2vvy8N0kV+fplX7IqsPTL3pPsJOkDUAAQQi6b7HyXrD6YrAo67U/O1q/6An7SoFK49GlUWQa1rC43Nasm7WpGKVO/L4IAxZiwIBX0Z2TCGJaLfO1adZN1X3RrnxuBjEfS81QsBkpK42+1LyVbthxLK7qJlBsUAISQy+L34xkydcNh2Xo0U23+C3celx+2HdU2LN+pox/odEhYkFNV+YNJ3ZdpGBsu1SKDVCYMrAFGhkwXFRTr25+9ONn5btl1MlsCtM3fqPMBy4tTEzrrDqcX3UTKDQoAQsglg5P/xsQ01SYYmyxOsMHa6fp4Rp5sP8ZSzpcCui9is29WJVKqVQhRGQlX162oXBemo1j8pYGSMX7neJOUGRQAhJBLBiWcM7RTXnF/eqAmBJC/Ti6NME1EtakRJd2vqKTEQJ2YMP0dcxHo9JPYsEBxF9vrYdWoFWXNjpJmggKAEHLJIGgNrmrv/R9Psd4Xz74jF0/xGgZmI8hZ1Eba4/GoGAa3NilQ/tupTZi21aP1u0h5QQFACLlkKmmnu5jQgFNBa0Ubf6FKu2teLbLoJmJr6lUMk1taVJP6FUMlWpsrSM0c1LKG9pzpvuUNBQAh5JJBoZy2NaNU5Ubk1+drpzuc/6/QFv260eY0W5OSJzwoQDrXrSQ3xFeRNjWiJcBpbsuGVaAAIIRcFrWiQqVHg1hpXytamXW7ags9Kjp6t9YlhPgeFACEkFPAn7/1WLos25MkW45eeJoWuuU1rhyhzP41o0NVVgAhxLfht5QQosjMK5BPVu6TVQdSZG9ytqzWHqesOyRpbEJDiCWhACCEKJbuPikhAcjn91f5/HhEcN+6Q6kqwK80YbtbQsoeCgBCiDrl5xS4TlVrA0jtQ35/Rp5b0nPPbJ1bUsDS8PPuJE18JMmyvUmSmk1rAyFlBQUAIUTlZ7sLzx6059H+V5TgV7LsPZkly7VNH3Xhj2Tkyp6T2bJk9wk5mZWr30EIKU0oAAghEhMaKFHB/qfqzgM8oplLbGiQRIWUbM42UgZXH0wV2BucDgyHqhefluuSDUcy9LsIIaUJBQAhRNGpbiWpEOSUAlRtc3kkTxtVI4NLpQZ9kn7Kh5vBaM6DR1S+y813S0YeXQGElDYUAIQQBZrQXNsgVjrUjpEW1SKlc50Y6VK3okSVQsW2QH905dNfeAHbA0QA0wgJKX34LSOEnCIiOEAaxUZI6+pR0jAuQrXPLQ0qhgVKWKBD1R0wUE+1C9HBRW17CSGlCwUAIcQnUAYBPz9Jy3NLriopTAgpTSgACCFlTna+S7ILPH9wA6D5Hfz/GaWUdkgIOQ0FACGkjCmUnUlZKtDwD2EAhRABDnFyZSKk1OHXjBBSpuxLzpaNiWnK529kABggAyEy2F+iQoP0K4SQ0oICgBBSZrjcHtmlnf6x+aPKoDcoRhQXHiRd68X+0TJACClxKAAIIWWGp7BQ8jQRUHzzB/na9atqRrONMCFlBAUAIaTMcPo7VOtgVBj0BlUHCz0ilcJKvuYAIeTsUAAQQsoMnPxrR4WKU3tEB0BYBGD6zy5wS5MqESoNkBBSNlAAaDz55JPy6quvysSJE+XXX3/Vr4rk5+dLXl7eqdrohJDLp0ZUiFwfX1mqhAdJsNMhkUH+quJgxzox+h3kbLj1Es1cj0hJ4adNJlvPJkQhf/fdd3L06FE5efKkxMTEyL333qve++GHH2Tfvn1SrVo1iY2NlcjISDVwDx4JuVDyXG5VWz880F8cLHN7igLt3yXAyap/f4bHUygH03JkX3KWZOV7JDrEKVdUClcBk6RswQHxueeek8WLF+tXzA0FgCYA8E+Qm5sraWlp6nVcXJx6b8mSJbJx40YlDFJSUtS1qKgo6dmzp3Tt2lW9XrZsmYSFhUmlSpWkYsWK6jkh3mxKTJPEjFxts/NIWJBTGlQK007Bofq7hPw5vx/PUJ0T4S6BCwUuk+AAh+rbUCmMIqAsoQCwGIYAOBtut1tcLpcaEAjHjh1TFoF69epJ48aN1T0jRoyQiIgICQ4OlqCgIPVYuXJlJRKqVKmi7iH2Zc3BFNlyLEO5ttH6Fot4kL9DutWvKFUiQvS7iN1waWvL7pPZKhiybkzYOXsfoCTyD1uPSU6BWxwok6jjdqNTY5D0bFhZv0LKAgoAi/FnAuBCgHUgMTFRjcOHDyuREBgYKAMHDpTatWur1y+99JLUqlVLatSooa5Vr179lEsB///EmhRq/5uwYp+Ea6d+Nc/UxUIp0E5wdaJDld/be1En9mDL0XRZpQlD/OYhCl0ej7SuXkHa1IguusGLtJwCmbrhsJpD3mDNQuDk3e3r6FdIWUABYDEuVwCcjYyMDAkJCRGn06kEwuzZs1UwYXp6unIlpKamSs2aNeWhhx6S0NBQOXjwoOzatUu5HmBNCA8PV64EWBSIeUnKypPvthz9w+kOJtwKwU7p0yhOAun/thVpuQXyvTYnsPufEv/a+oMaCNc3rixxEcFF13Qy81wyY1OiapFs3I/VCmtWgMMhg1tVV9dI2UAB4OMMHz5c4uPj5dFHH72gYKvSEABnIzs7WzIzM5UIwPD395dmzZqpxwULFsjUqVPVpo8YA1gGIAIaNWp0KtYAoiEgIIAxBiYCaW6TVh+QsEBYAPSLGrheIypYutatpPLiiX3YeixdVh5IkWAv4YfVBxUSG8WFS/taZ2ZCwEXwy56Tsic5SwK1tQLzCOtVrssjHWvHSHzlCP1OUhZQAPgw//vf/2TkyJHSvHlzWbp0qTqBn4+yEgB/BqwDCEA8ceKE7N27V7kTdu/eLVdeeaVyJSAW4auvvlJWAogDxBjAjVC1alXlUqClwHeZs+2oHMvM0xbvoo0eUw2Lfac6MarfPrEXaw6lyuYj6RLo1e0Iqw98+nWiQ6TLFbFFF73IynPJ0j1JciQ999R61axKpFxZK/qsFRVJ6UEB4KPgF3PPPffIF198oR4TEhLU6fp8+IIAOB+oR7By5UrZtm2bJCcnS0FBgRINeP7AAw8oS0JOTo7MmTNHxRbAvRAdHa1iESCCYDkwzIekbPF4RH7emyQnMvK0hb5QnA6HNNZObU14crMlydn58t2WIxKgCUJj88b6g/LIfRpWlmoVznQBeIMWyum5LokNDxR/ppKWCxQAPkhSUpLcdttt8u9//1sF3T399NOWEgDFQRwBYguOHDkibdq0UW4BWA++/PJLdQ2uBmz+SEuEhaB///7KcoBMBrwPNwN+BveQsiE9t0AytQUcpW5hyiX2BEvN2sOpsu1Yurj1ZQdxoHVjQpVJnxu7b0MBUMbgZDt69GhZtWrVHzYsmM1nzZol7733njKJGyf/J554QuXnn42xY8fKzJkzVboeYgTWrl2rTtJmB1YB/D0QXwABgOfHjx9Xz++8804VlLh582aZPHmych0YcQYQCchOuOKKKy5IMBFCLg+Xp1AOp2bLUViFtNU3LiJIakaFKKsA8W0oAMoY5OD/8ssv6uRafIPCpnf11Vcrnz82PmxoMI3jOvznc+fOVVX7vIEfHT52mMUxOnfurH7GiiB2AP8WEDsA1hFMYFQ9PHTokAoshAWkbdu28ve//10JIggnxCHUrVtXVUCEBeFCYikIIRcHll4svvTjmwcKAB8Emz+EAoLhkHKHU/5PP/2kqvOdDzO6AEoSiCH8/WFBAbAQ7NixQ4kHCCNYYPD+7bffrsSWx+NRLheIJ/x7G0LKF8gpcMminUmSmJ6r/O3VIoLlmgaxKgqfEEIuFwoAHwd1/Z966inZunXrBQW+2V0AFAcbvBFjgEdYDbDhY/Nv2LChZGVlyZtvvqneQ90CuBMgtCpUqCDt2rVTrgb8GRhlaTlAnf25vx9ThVOcqrhOUYGViCB/+UvjyhISQBFgFlAt8URmnmTnuyU4wF8FvSF4kpDyhgLAx4Fpe926ddK3b18KgBIC/z4YcBHA0oJYAsQXQCTAnYDniDkYNWqUEgWwKqCPAmI2kJWAOAMMuGNKK2UR+dXrDqcVVVfTf+/G525ZrYI0q1pBXSO+DWokJOxPliMZuZKjCYAgp79UjwqWNtWiVB8FQsoTCgCLQQFw6cBNgBRFiAJYBrDZI04DLoRJkyYpK4HRIwED77344ovqZ40ARcQaXIhQOx8J+0/K7yeyVHU044/DbxUbSv2KYdK5bsWii8SnWXsoRTYdyRCnP4rkFv0OXe5ClTbZrmb0qd8tIeUBBYDFoAAoXRC8iR4JKHeMmIIhQ4ao62i1PH/+fBWkCLcBAg7RPKlVq1bSpEkTdQ/uh9XhQmIMthzNkHWHU1VKlbcFAKlWrapFSnNaAEzBhIR9EhaIinend3q4BKAEbm5eVUIZz0HKEQoAi0EBUD7AVYPOiogvMEoko5ZBy5Yt5aabblL3fP7550ogQBggzgB9EpC+CFcCRIM3BR6R+TuOyfGMPAnQTo8AJ8fo0ADp2SCWG4dJ+FgTAOHFBAC+n2igNLBFNQZ0knKFAsBiUACUP/j3hwhAXQc0RzJSN7/99luVkgiRgAZLcCdACPTr109VPwSwIiCDoXJsJfEEhcvebD85nJIpuXn5Eqtt/m2qR0lMGAsemYWZmxMlM6+o9a0hAZA3Hx0SIL0bxbKIEilXKAAsBgWA74LYAlgA8AiBAFcCBqofotwx3hsxYoSKPUCMQWhwkDiDQ6RGrTrSpUsXqRJb8dQmQsxBYlquzN1xTJza9xL58TD/4/uJGI76lcL1uwgpHygALAYFgHlBqiEyDjAgDPCI4kaVKsbI4MGDJTqmospY+OCDD1RnRVgKUNgIqYsoh4zCUcT3SM/JlzWH0yQ1p0D1wW9XvYJEh5VNw6s8l1sTjX5nNOshxIACwGJQAFgLIyMBm7uRkbB8+XLVjhlxBhAIcDVcddVVqvohahXs3LlTxR/A9WCUSMa4kHbSxBqkaaJj18lsOZyWIwEOP6kSGSLxceGqDgEhBhQAFoMCwPrAUgAXAgZiCVCzABaA+Ph49d6UKVNU+2gUM0IXRYgAxCJAJCDWAPMD4gENlFgW2Xpk5rlk+d4kOZqRrxeRQlCpR6qEB8l18VXUa0IABYDFoAAgsBigZgFSFvfv36/cCbAKoIlShw4dlMVg6tSpqioiBAJSFuFOMB4xh4h52X4sQ1YeSCnKHtF+l/htYk3IKXBL/6ZVJDb83C16ib2gALAYFADkfMBqgCZJEAVwJaA+AQayE8aNG6esCRAH6FiJ+AIIA6QswlqAGgZ4xByjUPA9EGS4cn+y7EzKOqMbH1YEl9sjzSpHSpuaUUUXie2hALAYFADkYkDmAVwIKIOMWga9e/dW1xFrMH36dBVLkJubqwQAUhZR6XDAgAFqnsGNgAFXA2IMKAh8gw2HU2V9YpomAFB/oOgaVoS8Ard0v0L7HVYMK7pIbA8FgMWgACAlATZ9iAJs8LAYwDoAqwBiDIYPH67uQc0CtLZG2qIhAiASkJmAtMayBp8H7g4EP/bo0UN9HjuCxkOLd5+QPFehigHAauDx4L+FcmfbWuoeQgAFgMWgACClBawF6JeAAkYAVoI1a9aoWAOkLKLVMjIVunfvrqwEYNasWepnatWqpeIL4FIoad5++215+eWXVWxDLU14oKFTvvZZhw4dKhMnTtTvshcHkrNl2b6Tyu+P5SAq2CndroiVuIiyST8k5oACwGJQAJDyZPfu3SrjwNjo33jjDWVFgHiAVQGxBjiZY3NGjwSIA1gaUAoZsQXouAgRcaGgZfOuXbvkkwkfy8BBg/WrIus0YfL3YcNUz4bt27dL5cqV9XfsRUpOvgT5O1g6mpwVCgCLQQFAfAls+shIwCaPWAN0TUTgIawEsArgGk7vSElE62WjTwLaLbdo0UKJArgdMK8xvHn88cflq6+myOZNm6VCdLRsTEyXk1m5Eh4UKI2qRUkFbc/r0eMa7U4/mTdv3gU1YSJFIJgQ1oNgp0P8WT/CslAAWAwKAOLroLgR5ilO+mi/vHLlSmW+R5wB3AkQCbAIPPPMMyr4cM+ePSprAdkJOMlDKEAUNGjQQDauXy8NW7aUH7cek4xc7c8t9IjbUyiB2qn3msZVpTDliLRpd6VqxNSzZ0/9E5A/A8WDdiZlSk6+W4Kc/lI3JpSBgxaFAsBiUAAQswI3AYaRloiNHtULIRCwgWNeQxigsFFCQoL89NM8TUy4JeFgmqzaulPgOIirXlOcgUHKtYBz64D4iqr+AeodvPfee+r/h5ybYxm5smDHcdV2Gr0L8G8Ow0uH2jHsXWBBKAAsBgTAY489pk5I8MPWqVNH5XHXqFFDnaDgYzXyuQkxE5jT6KaImIKnn35asrOyZNny5TJ90xH5aeY02bNprYp4D4uIkJjKVSUwsqK8ePdA+W7aVJk5a5Z88803ytVQ3JVATvPN+sOS54bL5fRhAmIALY2vj6+sLALEOlAAWAx8afHLRDoUFkqjVjzKxmLzhyhA2hYG/Kw4GWFRxEBwFoUBMQNPPfWUbFi/XubOmyeztybK7zt2S9rxI5Kemiy52VmSo833o8eOyb8eu18WLvhJ9U/o27evmuOY+0gVxHOjXDLnfREfrdgrEcEBZ3SdxJKa5/LIoFbVNSHAYEIrQQFgMbxdANj0IQJQGhbPjVxuFHfBgDjAxg+TKhZC4xGLI8QBHuFzvZiobELKghkzZsiggQPF5XbLxiMZsuFIugQHBUqhxyN5Odlqvoc7CmRg2/rSf8At0rlzZxVUuG3bNhWQiNgDCAAEHQ4aNEilKOLaihUr1HNDHNuNz387IA5HUetiAwQE+muv+zerKqFsJmQpKAAshrcAOBsIwDIGhMGBAweUtQADKVOwFiDPG/3oMfDcSOvCwogiL3ApsLMcKW/gyvrkkwkydOgwWbT7pOxNylSFb1za9I+LCJZ+8XGybesW6dips1rgWrdurTIQsNEjMwHzHQGHvXr1UsIX7oWxY8cq4Yt5D6sAnjds2FDat2+v4g+sztpDKbL2cLqEBJz+fuP03zguQjrWiTnDMkDMDwWAxTifALgQEIkNQYDiLhAIOE1h0URKl5HLjcXQiDGAMMDAIopFEwOLMyGlCU7rnTp1ks8++5/89a9/E4927Wi2RyqGOgTlbvbt3SN1610hr776qjz77LPqZ/4MzPF9+/admv94xNyH6B0yZIgSBT/++KNaLOvXr6+EMEojw6UA65lRIMnsrD6YLPtOZqt/T1C9Qoh0qBUjTjQXIpaCAsBilIQAKA7+PJhNMXBigusAAyVicZIy3AxYACEKkMddPMYA5lYMuhNISTJ+/Hh56aWXpGXLlnL7bbdJzRrV5WRysnw3+3uZOXOmCoj95z//qd998WBeQxgY7gBkH2zcuFFdN2Js8PzGG2+UG264QQUqovAQqiIabjUjxsZMpOcWSEpOgUQGOSU6NFC/SqwGBYDFKA0BcDbw/+EdYwAxAIGAMqxGjAGuYeEzFkIMZCIYMQYYSPXCZybkUtmwYYN8++23MnfuXJVGCJGJCoG33HKLMu+XNLCAYc5j/mOOY67DSgBrACxkECUokwzRgGFYB/BZYDVAiiIEAgQxIeUJBYDFKCsBcC4QW2Dkc2ORLB5jgEUTi6F3jAFEAhZGuBFQHQ7PCblYsBljc4YLCqKzPMB3zyhqhDm/f/9+9YgSyah4iHRcuBamTZumvgsIQsS8x5zHgCgmpKygALAY5S0ALgRDEBgxBhAKMLNi8TbiDAxRgFMVFki4FnCSMuoYMMaAmBVYDBYsWKC+A5jzxryHBe3TTz9V96D64e+//64sC8jEgVCGZQPihm40UlJQAFgMMwiA4sBvihOTUSsejzjNwb3gHWMAUYATk3cdA7gUcN2IMWB2AjETmNdGfA3m/bXXXquuI9YALg3Mf3w/jHia+Ph46d27t7oHPwOLG4SxHTIUSMlDAWAxzCgAzgYWPcPHikeYVbFAIsYAYgFCAdeN2AJjGH5X7xgDQswG5j3mO8Qv5j6sBnAdQPiibgGYPHmycqthnmPuw+2B92E1wCMh54MCwGJYRQCcC8QWGHEGEACGjxUDiyGCq4zYAiPOAA1lvGMMYEUgxEzgOw03GcCcBuiRsHXrVuVKgzDGPbAEoOJht27d1D2fffaZciEg9gDzHxYzQgwoACyG1QXA+UCENRZE7xgDiAJvXysWUrgNsCgadQwgEHCNMQbErMCdABGMNFwMgJ4JiBsw5j7EM0QwGiRh/sPSBlcCin1hzuNeutHsAwWAxbC7ADgbWPQMPytMqWeLMUCFOFgKvGMMDHeCd4wB/n0JMQuGK8F7/mOD79Gjh3KPofDR6NGjpWbNmmrOY/4jTRePaLeMgEOIBIoCa0IBYDEoAC4MWArgQjACDL1jDLBIIsYAloPiMQYwoRrxBVgo6WslZgPWAOOkj0JGa9euVUIYsTWY/+gXgvLHI0aMUO6GTZs2yfr165VgwHw35j/rGJgfCgCLQQFweXjHGEAcFI8xwOLpHV8An2vxGAMGHhKzgVO+Me8hfPEcsQNYT77//nuZPXu2mu/G3Id4QLGlfv36qZ9HgCK+C4wxMBcUABaDAqB0wQJZPMbAiC/AMBZPWAsgCowYA9QxwInJ8LMyl5uYDVjMjF4JqFPQpk0bufLKK9WcnzRpkrIUQBgYjcPgRkCvBnwXsCYh9oYxBr4FBYDFoAAoeyAKjDoGMJ/CrArrAQaew72AACwshN69EuBCQOoWhIERZ4DfHyFmAhs7ihZBFMOVYKTtQiA/8sgjKr4A8QewIuA7AAuZMe/xGnE2FAXlAwWAxaAA8A0gChBb4B1jgEUQpyeIBcQZQBQYfRLwCFcCFkPvXgkYhJgJWAQgAiAGrrjiCmXtgjCGAIBLDaIY1yAAkInw17/+VQlgCOhdu3YpywHmPa6R0oUCwGJQAPg2OC3BRYCBhRAmVZycDh06pE5MEA7eMQZ4DnFgpCrCpQCBQIiZwJqEuY/5DeGLIFvE1EAk3HrrrWrdWrZsmeqRgDgCzH24CyAGmjZtKq1ataLbrBSgALAYFADmBnEERoyBIQzOFmMASwFEAaq+GTEG3rncXCyJ2YDVAE2TkImAeW+k6DZr1kwGDx6s7pk4caKKu6lXr96p+Q9BbNTwIBcHBYDFoACwHjgxwX0AEylOTlgYi9cxwOkKlgKcmBBfYMQYwL3gHWNAiJnAvMeaZli9kJEAy4GRwov5jwyGoUOHylVXXaXE8ebNm5UAhksN8x9zHxYF8kcoACwGBYA9wIbvHWMAdwIWS6OOAeIMDFFQPMbAiC3Aokp3AjEbKNoFAWDMe8x1uAngIsP34bXXXlOWMrgSMN8x/yEAbrrpJiUGIBJQB4SigALAclAA2BsjxgC+ViyOe/fuPSPGAAtf8RgDLJQIxsICCpMqFk1CzAjWPghgBB1iviPGBnMfFrOXXnpJze2dO3fK9OnT1Vpp9EjA3MewW+AhBYDFoAAgfwZORkZ8AQYWSYgGxBfA1YABkQDLgHeMAYrCIMYA8QWIM2CMATErEAVz5sxRVgTMd8x/WBUQQzBmzBh1z5YtW5Q1DVkMEA3GvMewUsoiBYDFoAAgFwtEAdwHGIgxgOWgeIwBLApYCBFjYNQxwGtYD3BqMgYhZgJxNZjjmPdYOzt06KCuQyAsXbpUuRkgDDDnMd/bt2+vCiABCAQIA7jWzBqASAFgMSgASEkAi4B3jIHRkx6LnlHHwMhGgI8Vw4gxwGJpxBkg9oAQs2EIA8x/PMd8hysBlQ+NVsvvvffeKWGMuQ8xDIGMcuD4PpgBCgCLQQFASgvMKyx4xoDFwOiVgMURRY5wj3eMAerDY4GErxWpiqhjYJbFkRADuMXgKjDSbJF5gE1z+/btat5DLMAthrl92223qaBE8Omnn6rGSnCjYfha4CEFgI+CX8hjjz0m69atU6UzP//8c+ndu7f+7rmhACDlCfyq3nUM8BxiwbuOAeYnrAMQBUaMAeY4xIKxwLI0LDEbsIxhvtetW1dZBGA1Q0YC5rQRY4N5jboGt9xyi/oOQFTgOwPRjPvK2pVAAeCDoD3nfffdp/p09+nTR5mhYG69kJQtCgDia8CFAGsBTKmIzsbCWDzGwAg89K5jAJMqXAiILUANAwgEQswERAHmvRFjgwFxgMMc5vTy5cvliy++UJYxCAJYyYwAXPRQwHpemlAA+CAvvPCCUpLx8fEqGhUmpQs5/QMKAGIGcCLCyQdCAI8IPDTSt/CIhRNmVu8YAwy8NuILMOhOIGYCazPmPlwBWKvhOkPhIogEzHmjV0iPHj1kyJAh6p6EhATlaoOVDAMCAXE2sJRdLhQAPgiaY0yePFmef/55FVAyatQoGTt2rJoQ5wMTBicqqExCzAS+ukYdAzxiITR6JWBgcYQJtXgdAwgB7zoGrHhIzAYsYHCVYe5DDMMVgM0e1z777DNZtWqVsoBhGHEE119//anqh7CkwVp2sS4ECoAyBptz//79VYrJ2UCd68cff1wthlOnTlXXpkyZIh9//LEqg1k81WrYsGGqFzfA5g9ViNgBmFmRt92iRQslKABMsZhomCTwN2EQYibw/fGOMUBWAsSCEWMAPyu+O3AhGDEGeMRrLJz4fmDeM8aAmA2kKmJ/wPxH10TEEWB+4/p///tfJZaxP8B9gDmP2h2dO3dW8x3WNKz9xa0GsC4888wzFABlCRQbPiY2bG9wDb8g9NCGojM29pkzZ8r7778vM2bMOO/JHn/mmjVr1ESBWQmqEBMFoJEGXArGgmjkc+PkBN8rIWYELgTDvwr3Ab47uAYRjNMURAO+W7AUFK9jgO8TLAYYsCYQYjZwsMO6DveZUcMDcx/uBaQqQuyiIii6LeI7gPmPfQHPEW8G6/LChQv1P83cWMIFgL7ZEAFff/21OsFjA69fv7689dZb+h3nBgLA+CcwTKmwBABMEnTbMhZKKEdUwLrxxhtVsCFAO06clIxcbiyUFxJ8SIgvAUuAd4yBEYjl3SsBCyMCDRFHgAURYgBzHfPeGHQnEDOBtR/zHQNCuEmTJur6jh07ZO7cucpqhvfgSsAaD5EAcfDDDz+o+8yOJQQAwGb/yiuvqLQptMJ855131IJ0PrwFwLkwfE1GLjcWOWz0YMSIEX/ws0JADBgwQJXFxM9hMYV/ihAzATOoMffhLoAQwOJnuBQgDmAuNeY9Br4HmOswqxoxBoagJsQsGHUMMP9hMcCcx3z/+eefZePGjfLjjz/qd5obywiAS+VCBMD5wAJp+FixQEKEIOAECyDMTC+++OKpohfoyw2zKtJYUPwC17HQYjDGgJgNnJoQbGjMf8x3LJpGjAG+CwBzHqLAiDHAaQqxNXDhYRR37xHii8AFgJgxxgBYhJIQAH8G/KkIHDHMq1gwMWBKRe0CnI7gali9evWpAi9GnXgIhuJBjIT4OpjzsJTB8gW3GfyruIaBuY/vAb53EAEIvII1DQNuBcx5WNgw7xljQHwNZgFYjNIWAN7AUoBFEAsg3AbY8PGIlJV58+apgBScmrAIQhi0bdtWrrvuOvWziEWASQqFLyAeCDETsARABGP+G/5WxBUYMQYQC/guGHUMjBgDuPG84wwoiEl5QgFgMcpSAJwLCANs7njEoohAkz179kiDBg1UWgpEwWeffab6cmNRhK8VCyROT506dWJ8ATEl3jEGCEKEtQAuNLgS8B3AdwFuMe/4GjzHvPeOMaClgJQVFAAWwxcEwPnAQnnw4EE1kLuKhRILJk5R999/vwo2hPXgww8/VCcolMQ08lphTkUEK05XhJgNuBIgCBCEhYG5XzzGAHMbljGIAtSVhzCAtcCIL2CMASkpKAAshhkEwNmAAID5FIsdgqmwUKInN8ypRl4rFkeckO69915lRoX5FektEAmGn5VpW8RsYG5jvmNAEBjxBRhGjAEsBxABRq8ExBvAdWbUMcDch0WBkIuBAsBimFUAnA24EbD4IW0Fj0aRi2uvvVadghBo+NFHHynLgOFnxSMyElAiE4smTle4lxAzgfoc3jEGRh0DZChAFEMYYF4bDZOMYEOjfocx2ECJ/BkUABbDSgLgbMB9YJj/YTJFkwwjj9uINWjXrp3cc8896h6UT16/fr0SCbAuQBzgEQsnzajETGDuG7E1sIYVjzGASIAoMOILMBB8WzzG4GLrxRPrQgFgMawuAC4Eb5GAqorbt29XCycGFk6YXAcOHCi9evVSFgIIBCyciDPAiQmWAwzUNCDETMA6YMQY4BFWA8xxuNiM+Y+5XTzGAG40o44B3qc4tgcUABaDAuDsYOEzfKwo7tK8eXO14cPUimBDWBJwsvLO4UaJZPhYsXDCFAtxwLQtYjbgLsDcN+oYnC3GAJs/3AcQBnAdeNcxgBUB7gVaDqwHBYDFoAC4OIyMBPhZEWNg9KPH48iRI9XJCGbW7777TplU8RoLIxZJPDZs2FD/kwgxD5jvRmyNIQQw7406BrgGawDmO0QABsSwd4wBAnGZsmhuKAAsBgXA5QFBAEsAzKY4+eDfE4FX8+fPP+VrhWsApyFYBEaNGqV+btu2bcqKUKtWLWVahTgoD9AmFFYKnOQIuRi8e9JDHEAMYE4b8x4CGfO+eIyB4U7AI1wKTNE1DxQAFoMCoPTB4oh2y3hEwCFAyuLy5ctPFYGBkECgYbdu3VSsAcCpCosjTlYYJbVQLlmyRF5++WVZunSpfkWUSPn73/8ub775JistkhIDljEjxsAQBXCRedcxgDBAXAGGEWOAOWjMewziG1AAWAwKgPIBsQSo9AbzKfytWBjxGB8fL927d1f3/Otf/1KiAScl+FgNXytOTzC1XgqvvvqqvPbaa3L7HXfKgw89Iq2aNpacAreyWLzz1huyYf161eu7ZcuW+k8QUrJgnnvHGBhuBcO1AHcDXAWY795z33AtIL4AA8GHpGyhALAYFAC+A05D+H0YftKVK1cqywEWSwgFLJY4Dd15553Spk0bdc+kSZPUIglfK3ysRjOls7FixQpVOnnu/IXSp2cPSVz8tSRu+EUCwyKlXrf+Et7wKrn77nu0/98EJQhQRIaQsgCbPgbEAAbmvHevBIgDI6bGO8YA4sC7VwIDD0sXCgCLQQHg28A1YPhZ8QiTKjZmxAzAdYCOingO0YAFEgsgFsWbb75Z5XPj57CwwqTaqlUrub5vP3lt9ChZ89YDciBhnnjy88XP4RD/gEBpfdcLUqnn36RVfEN55plnZNiwYfqnIKTsMXrS4xFzGLE1RowBAnENUeA992EZMGIM4EpAHQ9SclAAWAwKAPODExMWRQwUNsJCiJREbPqoWYC0RZymvv32W/lm+gzJ2rRU0hdNkhpV4sTh8BOP9usv1IRG3vF9MmRxvvzng/HyxeTPlSuAleGILwNR4B1jgJod3jEGEMmYwxADSONFYSMIBO8YA7oSLhwKAItBAWBtsDgi4wBpiZP+9z95a9xYWTplvERnHJJr6lcSf4fI70k5ciyzQCIkR3o9Mk525YfKG/8aI3PnzlULJyFmARYzowwyBtxmsB7AWgBxgBgDxNVAFMBdBmsa3GcYhlvBiDFgYa8/QgFgMSgA7MG0adPknnvvlVRtAZz50nA5uWquxEZHqtP/uiMZsv1EjqRlZkm9rv0lTYJl7pwfZMaMGdK1a1flRkAXRmQhYMFEKhchZgHrmxFjACEAixlEgncdA1yDKDBiDOBWgwgwAhCNYXdrAQWAxaAAsAfI92/QoIHkubQT0i8z5Jc3HhD/kHDxczjF5fZIgdstWcnH5drJO+Sl556RRQsXyrx586RJkybqJDV58mQVf4AAQ/hcsTAixqBLly4UBMSUGHE1iDGAMIA7AUIX7gTEGMBSgNgC7wFRAKsYYgww0HrcTlAAWAwKAPtw3XXXSVBwiMycMV22fPaq7F04VfIz01QAYEBwmHR//lPJjWskrZs3kf/85z/St29f9XPwqe7evVv5WLFAwoyKa4grGDNmjBIEeB8WA5hVsSjC34oTE97DyQrzjBCzASHgHWcAoWDEGCC+AI8QwJjvEASIMYBAgCvBijEGFAAWgwLAPiCCGlHR4958Ux5/9FHJP7RN9v/6o4REVZIa3W+WHL8Q6XNtDxVEiM0ci9i5ME5MjRo1Uq9R/hhBg7AWwJyK9+GPRenjf/zjH+oeWBBgckUAFk5ShjWBELOAOQ3hi3kONwLmNCwFiC/AnEc9D7zG3IYYhpXMu46Bd4yBGSsgUgBYDAoAe4FMgBEjRkidunXl/gdHSqeru0i6tnh9P2uGfDLhY6mnXcc9WLguBswh1DHA5o8F0PCz4pQEywP45ptvZNGiRWph9M7lhkho3bq1ugdmWUZlEzMBUWDEGBjiFwLBO8YA3wlYCrzrGGB41zFAIKKviwIKAItBAWA/YNacMGGCvPPOO2qxAvD1P/vss3LrrbeW6AaMxdFY1LA4Ik0RlgO4EzBgWu3Tp49qtww++eQT5WIwcrnRKwEmVaYjErNhxBhgYO7DhWDEGGDuoxoo4gq86xhAFHjHGGD4EhQAFoMCgJQ33qd+CBNYDgw/K6wKWCiHDx+u+ijg+m+//aasCDgxYdHEz2KY0aRK7A3EOESwMWApMGoYGHEGsJIVjzGACwFzvqxjDCgALAYFAPFFjN4IRj96uAiw6eM6eiTgRIWFD64KCAE8wpKAkxQWTSykWCTxmhCzAGtB8ToGmMtGjAGsYxDFEAVwHyAt14gxwDXvGAOs7SUNBYDFoAAgZgLWArgRYBXAYggfKwKxMIfvuecetfBt3rxZdVvEogifK4IO4WfFQulrJlVCzodRCtk7xgCBiBhwpyHGAKIXgYeY63AjoI6BIRLwPTDG5YoCCgCLQQFAzIzRkx6xBka64Y4dO1QzI4gDLJKwAsBaUL9+fbn//vvVz61du1adtHANJlW4EsqKTz/9VDZt2qQ+07Bhw6Rp06b6O4RcOBDDcInhEZYxiAFk4xgxNrAU4DuB+W8MCAPvGAPE2lwMFAAWgwKAWB2ckNBVEQtgs2bN1Hz/+uuvZd26dWrxhK8VvlSckNBDoXnz5urncNLy9rNezukJC/XIkSPl448/lmrVa0jbdu3UAr3gp3nKjIvr/fr10+8mpGQwBIFRxwDuhOJ1DGAxQO0OCAKkCWM+wpKGUsgQxt4lkdGh9Omnn6YAsAoUAMRuYL7DpwrrAHyssATgNYRCr1691Ikci+Trr7+uFkDvXG4MLJYXU/0Qp7ObbrpJuSo+n/K1tGvVQju+ZYk4QyUr3yOvjXpF3vn3W/L+++/L0KFD9Z8ipOTBvDbiCzDvMecNt4IRY2CIAiPGADE2mPd4RHOxd999VxYsWKD/ieaGAoACgBAFFkCkZGHTxyKYkJCgorSNYCwsmFgI0YIZIgBxCCiYhJMTriPOAGIB1gJv/vnPf6raCot/SZCw5F2y9ot3JOfkERGHQ2q17yX1b/mHfDThE7n/3nv4XSRlDlxoiC+AdQDfAYhhzHkjxgDPYS1AfAHcarj2ww8/6D9tbigAKAAIOSdwERgDJnuYUVH9EEJh586dMnr0aLXxGz5WuAtgRsWJH2ZUnPo7d+4sb7z1b7mpfz/5YXBdFa9Q6B+g4hc82uLbsP9waT78FYmNi5OXX3pJHnzwQf3/nZDyw6hhgAErFkQwTv5Lly5VnUKtAAUABQAhlwU2ecPHip4ICKwaMGCAsgSg2NLDDz8sjz75tOSv/0mCUvdLbESoVIkIlOiQAPG43OIfEiq9/jlZftywT+687VZ1EiPEF1mzZo08/vjjlokBYOUQQshlAbN/mzZtVPOkhx56SAYPHnzKDYDiRHAXtG3bThw5qXI0yy2/HMyQnSdzBSGFhQ4/+W3HAflm+ixJT09Tlga4GnDiwnNCfAm4xqwEBQAhpNRA1kFAQKD0v+kmufnaTnJNnQjpUz9aGsciZRGlkgslwxEia7ftlOnffKuCtCZNmqQqIsLXCuB/RTtnWBjgNiCElAwUAISQUgONjrKzs2TNqpXS+b4XJTTzuNQKd0hkgJ+4tRO+JzdT+nbrLG99PEkOHNivXActW7ZUrjmj/wFcDEhb/PDDD2Xs2LEqCnvatGny888/q/cJIZcGYwAYA0BIqfLII4+o9KlFixdLym8LZPWEF8StnfQRDBjX7Eq56omPZd6ChfKXXj3P+l1ETMD27dtVcRdkJSBiG6ZYpGy9/fbb6h74ZpctW6Zqxht145HKhYwGNlIiJQULAVkMCgBCSpf9+/dL7969JT4+Xv7z8SdSPa6SeI7tFkdohHgi4mTKl1PkkYcfUumFo0aN0n/q3OD7ihQtCABYGACKGmFxRuwAUrkgGrD5IzbhzjvvVPegKAzcCRAGRr147yIvhJwPCgCLQQFASOmD/gUoQ4wSxN179JCmzVpIvnaK//67mSroD8GDTz75pH73xYPYANQlMDZ/PCJtC/Xgu3Tpou5BRgLECGoWQAQYA5UPURIZeLdvJqQ4FAAWgwKAkLIBUf1oZYyyvxAE+O4NGjRIZQ2gylpp4L2hI5YA/79GaViUR4ZYuPXWW6Vbt27qntdee01ZBoxa8bVq1VK14wkBFAAWgwKAEHuDQi8oYARQ/hgY9eINV8Ldd9+tCiChGBKsGOhLb8QYIOWxePVDYk0oACwGBQAhxBtYDRBjANcErAWwXFx55ZWqFCxcCOPGjVNrBtrPougRKiHWq1dPOnTooIQERAJiDdB5ju4Ea0EBYDEoAAghFwosAnAdoIEMBIJRGz4uLk4FG6Ic8ooVK9RGgWYy0dHRakAkoLEMHol5oQCwGBQAhJBLxagVj3XESDdctWqVSkmEMIA1AKIAlgDEGaDlMdYbxELg52A5gDAg5oACwGJQABBCSgtkJ6CC4b59+1R9grp166o6Bl999ZXs2LFDiQDEGyDwEFaE22+/XbkVsCbhPsQWwK3AGAPfgALAR0GhEKhufKHgr8O4ECgACCFlCUSB0W4WqYqoZ4C0RbgT7rrrLuU6QJbCp59+qoQBei3gGtwHGOitYAQtkrKFAsAHgclt5MiR0rZtW9WmFL8c9CCHue18UAAQQsobBBqiDz02eKxJEAVY11D9EGIBQgEWAWz+qKwYGhqq3ktISFBpiqhtgJ+FUCClBwWAD/Lyyy/L77//LlOmTDnr6z+DAoCUBx53gexbMFXyM1OkRsfrJbxaPf0dQk4DiybEAR6NnvTt2rVT782fP1+5EpCdgDgDDFgG0IDphhtuUFUOEYPAUsglBwWAD7JgwQJ58cUXZfTo0So399lnn5V7771XBg4cqN9xGqOrGL4oGJ07d7Zci0fi2+xfOkN++/dDUujJFz9HgORnp0v9G4ZJ25FviMNR5OvNTT8pO2d8KNunvSfO4DCp3WOgxA95VEJiKqv3CQEQBnAXGAPljps0aXLK+vnBBx/Ihg0blIUAlgLEICDosEGDBmqtBKx+eOFQAJQxCJCZPXu2mtjFA2GQkoPyoVDI2PARWYvCHPCZodpYnTp19DtPg25iM2fOVK4CTHoU9UA6DyFlQU7yMVn0+A2Sn5EiDudpP25eWpJ0ePpTqdX1RvVewrgRcnzDMgnQNn/x85OCrHSJrN1Ier+/pOgHCDkHWNJh2QRISYQwgPsAcQZwLSD2YMiQIerwg3oFCxcuVIchVGNE7QLUN8BA/IHx55AiKADKGJzOEQyzZcuWPwS+YFKjNSgKc6BLGJ7DN/b0008r/9jEiRP/8DPFoQuAlCWJK3+S5a/cIUEVKp5eXLX558rPldjmnaTLy1/KgSXfym/vPSb+AUHi59Du0aYnZihEQqfnJkqNzuePbSHEG1gKjB4JqGGAjARs9rj20UcfqfUT9xj9EbCODh06VD3HOosyyri/tEo2mwUKAB8DH//GG2+U66+/XjUbAXPmzFE1vfFomLnOBQWAudky5U1JTJgrASHhUqfP7VLnmkH6O77J/kXfyMo3RkhwlNdCqs0/tytfIms1lmvfnCNbJo+VbVPflsBwzN0ikYA56s7NllrXDJR2/3hLXQPHN/0iruwMiWvVXZxBwfpVQi4MzCs0UTKCEJGuCDEAK8GwYcPU+rl161b54osvlHUV8QQQAnAnIF3RiEewC1YTAKZ3/GADRzMPRP1DySIo5uGHH5b+/fufd/Mn5sWdlyPzHugm274cJ5mHd0vK7g2S8NpwWf3OI/odvklcq64SFFlR3AX5RcJTG3h05WRJ3b/8Vd0THB2nzWv11hkUelwSUbOBep6yY4N8d2dTWfxEf/l11FCZ1jdONkx4Qb1HyIWC9RPmfmzqaHzUtWtXueOOO1R3RmP9RMwA2jmjFwLcpshKWLlypYq9Mli0aJG899578uOPP8rGjRtVsCIsDXDhEt/FEkGA4LvvvpOvv/5ambEQAINJfCGBLbQAmJPt37wr26e+K34Of21ov2dspB6P+AUESsenJkhs8476nb7H7jn/k82Tx4grKx0TUJPh/lKl7TVy1WMfSEBwqGRogmbFmLsl49BucWqvAQSPn9MpN365Qzvxp8kvo4dKys4N4tROZEXT10+ykw5L99dnSNV216qfIaQ0QNzAiRMnlNUAQYVgyZIlKgYL7gJYErAOw41w3XXXyTXXXKPuQa0WxHGhRTPiCyA8zAZdABaDAsCcrHzzQTm8fLa2AWKDNMzkHvG4XRI/6CFpPOgf6povgs95YuMKObZ+sbhysyX6ipZStUMfCQqP0u8QOb5huSZy3pPEhB/FPzBEYhq3kSa3PaZt7j0lcfV8WfXGA9rcdRTFCODvr81hWBWitfu6j/6m6A8hpIzASR+bP079RsAhgg8bNmwoLVq0UPcgPRsxXeiNAOsChABqF7Ru3do05ZApACwGBYA5WfXW/8nBpTPFGWpEKsMCUCiaBJCmtz4mDW8uigfxdQo9bmXFOBsQBznJR7G3S0h0rASERqjrB5ZMV3EEgRHR+t+9CI8mAIIqVpbrPvxVv0JI+YH0QmBYYhFfgGwupGEjSBsCARYBtFpG6iJAOjeKHSFIETEGyORCnQNfgQLAYlAAmJOja5fI6n+PVL5zR0CguoYgubCqdaXb69MluEJFda00+bPNuzRJ2bNFVo67X3KSjoi/toAaszc/K02a3PqINL3jSf0KIb4NChUhUwtCAIWO3n//fbUmw1KAgSwFVDe87777lJUA8QdoyQyRgIBE42dR9KgsoACwGBQA5uX36eNlz9z/SeaR/dpGGCjh1epIi7v/KVVad9PvKB3y0pOVaT51z2ZxhkRIlTY9JLZZe0wm/Y7SBwWCtn75Buwe4tAWP1dejkRUv0J6vrtInIFB+l2EmA+IAmz0GOioiAqHHTt2VLVbUNfgs88+U5s+LAOwEsCN0LhxY+VqgLUBWQ2wPiDOoKShALAYFADmJnnnek0A7FUCILJ2Y7UJliYF2RmS8K975cSmX1TQIezzAeFR0mzos1Kv1x36XaWPx+WSI6vny8Hls8STnydR9ZpJre4DJLxqUVAWIVYEogCuA8QaIFURDZTwumXLljJgwAC1lqNE8s6dO1X1Q4gE1C6ASIAF4XIDDykALAYFALkYds7+RNZ/9JwERkSJn/Y/zBz43p2hEdLrvcUSXCGm6MYywq1t/ggqdAax3juxF1i3kW2AAERYBGAhQKdFpCeuXr1aFS8CuI57b7vtNtUwDlkMmzZtUnUNkMVwMeniFAAWgwKAXAxz7+usyvnC9+5t8s9NOS6dX/xCqnf8i36FEFLewFIAN8Lu3bulffv2yhIAYfDll18qywHEA9Z/WAsQazB8+PBTQsKIT8AwAhnRofGpp56iALAKFADkYlj0ZD9J27NFBR5i7gDMH5Tp7fb6DKncsou6RgjxTWA1gOsALgQULELdAggFCAJkIQBYCGbNmqUEQ1xcnBIH6DGD6+gzAzeDFaAAoAAgF8He+V/J6rcelKCo033XPQV5ElKpqlzzr9mqxj8hxFzALQAhgE0eoBzymjVrVMoi4g4gFpBpgAJIaKj0/fffq/vMDgUABQC5CDyuAln99kOy96cvJCA0UgrdBapQz1WPvS/VO92g30UIMTvIJIC1ABUP4SqAQEB/GVgG5s2bp99lbigAKADIJZB+cIfq7BdUIVbq9BykzSPTt9VQFORkFtVWcAZIUGTZBjQS4usguBAt6BkDYBEoAEhx8jNSVZS/3UhcNV92zByvYhyCK1aWalf2lqZ/fVoc/k79DkLsjdWyAKxxbCGkBDi6bomsGHOvKrO78q2R2uul+jvW58iaRbLmnYclefsaJYhzTiTKtq/fZodBQiwMBQAhGgd+nim/vfOoJCbMkaTNCXJ4+SxZgY57uzfpd1gXbPj7F05T5n//oBBVWdBPO/UHRkZr/x5zJe3Adv1OQoiVoAAgticv9YTsmTNR8tOSJCAkXNsEg7WBLoOFqumQ1UENg7zUY6qtspHaiEf8z1PokYwDO9U1Qoi1oAAgtifr+EFtEzwhjoAgbecruqY2QGeA6sOfdexg0UWLElyhknbar6hKG3vHw6DPgJ+2RETUKN3yyoSQ8oECgNgep3bqdwaHapsf2pd6NfTRNkMIAavn9vv5+0ut7gO1v6tDCt0u9ffGv0V+RopUbt1VKtQpatVKCLEWFADE9kTWbCjh1RuIOzdHPNoGiDa/eHTlZEhsiy5KHFid6h36SPsnP1QWgKzjhyQv9aTU7jFY2j38jn4HIcRqMA3QhGmA+LSJCfNk29dvSdr+bRLbrKPED3lUYpu0L7qBXDTY9FeMuVtOblutPS9UefA4+XZ55Uv9DvuAAihG7XNCyGnYDMhimFEA7Jk7WdZPeF59dod/gLgL8tRjp+cnSVzLq/W7yKVwfONyyUk6IhE1GkhMw1b6VUIIYR0AUs6gSA1a0mLz9w8IUv5btIL1eFyy8b+j9LvIpRLX4mqp3WMQN39CiOWhADAZKNOatmeTHrF+KmRd/AOD5cSm5UWvCSGEkPNAAWAyHE6nBEXFKZ81orUBXBh4HVypinpNCCGEnA8KAJMRFB0rdXoMVPnpKm1N3/zdOVnS5I4n9bsIIYSQP4cCwGQgV7vBgAekbq/bxZWXKznJx1SzlgYDH5T61/1dv4sQQgj5c5gFYMIsAIA89ZykRMlNT5aQ6DgJrVRNf4eUJxsnjZIjqxeomIza1w6WBn2H6+8QQswOswCIT4BTf1jlWlKxQStu/j4AgjN/vO9q2TH9A8k+fkgyDu6Ute8/Ib++RgFACPFNKAAIKQF2/fCp5KUck4DQSPEPCBT/wCBVY//klgQ5usYapwVCiLWgACCkBEjfv0M8BXni5/DqJeBwqDiN5B1r9QuEEOI7UAAQUgL4Of1V61xVpxkgrgTD36G3FiaEEN+CAoCQEqB2jyESEhUr7vw8lZ6JVrruvGwJrVRdavccrN9FCCG+AwUAISVAXPOO0njwQxISV0NcudkqSyOiVmNpfd9oCY60djthQog5YRqgSdMAiW+Sum+bZB7erboJRtZpIuGVa+rvEELMDtMACSHnJKpOvNTo3Feqte/DzZ8Q4tNQABBCCCE2hAKAEEIIsSEUAIQQQogNoQAghBBCbAgFACGkzHEX5Evqvi1yZOVPknF4txR6PPo7hJCyggKAEB8F9QRSdm+SrKMH9CvWIPPIPln1xgMyf+S1suzl22X+Qz1l3YfPSkFOln4HIaQsoAAgxAdJXDVfVo67X1b9e6SsfGOErBv/jCYIzL9BokDS9mnvyeGVcyUwrIIER1USf2eA7Pnxf7L7h4n6XYSQsoACgBAfI2nrKln7wZNybN1SyTl+WNL2b5O9P30hK8bcp99hXvJST8iBpd9KQHCoKsKl/UcbDnGGhsu2qf/W7yKElAUUAIT4EDgh7180VXJTjol/UIj4+fuLwxko/tqGeXj5LE0MbJdCj1u/23x43G4pyM5Qm77a/DXwXz+HvyYOktRrQkjZQAFAiA/hyc+V7BOJ4h+obf7aa5ySjRFcsYose/E2WfXG/8nxDcuLfsBkBGgn/ej6LVXr5KIS3GibJKpxUpV2vdQ9hJCygQKAEB8Cp/6wKrW0DTJXv3Iah7+/igM4/Ov3Kj4gZfdG/R3zEBgeJQ1vvl975tDETo54XC5x5WRqwiBSmv/92aKbCCFlgmkEwNKlS+XGG2+UiIgIeeGFF/Srp5k0aZJUrFhRGjRooO4lxIzAFF6tXU9xBIaIKz+3mLnfTxMBDvEPCZP8rDTZ/s37+vXyJS8rXaXzpe7fpl/5c+r0GCxXvzxZYlt1U4GANa8ZJF1GfyMVG7XR7yCElAWm6QY4Z84cSUpKkoULF4pLOzV88cUX+jsiH374oYwePVoWLVoke/fulTvuuEOmTZsm11xzjX7HuWE3QOKLHF2/VDZPek3FAuCEjO6C3iBvviA7UwZ+d1i/Uj78+vpw2b9gqjhDQ8WdmyMV49tJ5xc/l9BK1fU7CLEO7AZYTlx//fXyt7/9TapVq6ZfKSIvL0++//57ef7556Vhw4bSp08fGTRokMydO1e/gxDzUUU7Hfd8e560fnCcJlA9fyiUA+HqceVLyu4N+pWy5/dvx8vBpdMlNK66BIVHS0ilapJxcLes//gFVeiHEOLbmC4GAKd/b7KzsyUtLU1q1jzdejU+Pl527dolbvcfo6XHjh0rnTp1kh49ekjPnj0lOjpaf4cQ36PalT2lWvu/aBtqnn7lNM6QUG0T/lB/VfYcWDJNAiNilBjR/qMeHQEBkrp3i6Tu2azfRQjxVXxCAGzbtk2aNWumFhCn03lq4HXt2rUlNTVVv/OPYJOHCT9AW3gMgoKClGXAc5byogMGDJAxY8bIq6++qh6zslh9jPgu+A5UatZJRcmfgdpwHZJ1vHyqBKJKIQIS1ebvhZ/DIa6sdG2k6VcIIb6KTwiARo0aKd9KSkqKnDx58tTA640bN0pUVJR+Z9GC6L3ohISESHBwsCQnJ+tXRBITE6VKlSpniAKD+vXrS9euXaVjx47Srl07yc+nqdIO5KQck+3fvi8J4+6XnbM/0V4f19/xfaLqxEto5TqqRoABRG+hu0BqXztEv1K2OINDJaJWY3Hn5+LDFH0ebXgKCiS8Rn2JqNlIv5MQ4qv4hABwaKeGyMhItdFXqFDh1DBeAyNQz3g0CAsLkzZt2sjUqVOlQFt8Dh06pGICunfvrt9B7E7SttWy+PF+smnSaBWtvu6jZ+XnZwZI+v7f9Tt8m4hqdSWyer0zMgIggd0ut4RVqVF0oRxoOfwVCYyIVhkJiEdw5WSJn79T6miiJDT2zFgdQojvYZoYAGQBdO7cWd59912VAdCkSROZNWuWem/kyJFq82/fvr3069dPrrrqKrn55pvVe8Te4IS6Y/p4yTl5RILCo8QRECjBETGSeXSfrP/kJf0u3ybj8B41kCLojTMoWHbNmqC/KnsiqtWRTs9NkoY33S+xzTpJjS79pcPTE6Renzv0Owghvoxp0gAR6IfTPcz6cAEg+A/xAYZ7IDMzUw4ePKhiB3A9MDBQXT8f+LNM8k9ALoGck0dl7n2dxKFiSjS9C/eR9vvGbzwn6YgMme/7vuqiwj8PiH9wSNHfQQen7qCoynLdx7/qV8oPdfp3Boi/JrAIsSpMAywn4Apo2rSpSvVDsZ+WLVueERsQHh6uov/x3oVu/sQGIEDd36m/OBMErJmBkEo1JCS2qhS6PUViVR9ItYus2UC/q3xxhoRx8yfEZJhGABByKQRFxkjV9r1V1Lph58FjQVa61OlZPgF0F0t0/RZSrcP14srT/g7uAvF43Oq5QxM2zYc+p99FCCEXBwUAsTTopNdowIMSWaep5Kcnq40fjxUbtzVN7XlYKuJvfURaDH1RQmNrSEBohFRu00PaPzFeIms21O8ihJCLwzQxAKUFYwDsQUFOphz9bZGk7tuinahbSZXWXcUZHKa/ax7yNPGCqoABIeHiHxSsXyWElAWMASDEhGDDrNmlvzT/6zNSo+N1Jbr5e1wF+rPSBy6N4KhK3PwJIZcNBQAhl0j6wR2y9au3ZN34p2Xb1+9I8q7yq8tPCCEXCwUAIZdA0uaVsnLcCNny+RjZv2iabJk8Rn4dPUzSDuzQ7yCEEN+GAoCQi6TQ5ZJd33+qLACBkTEqBS4gvILkZyRLwpi7ZeuUN+XYOmv4CAkh1oUCgJCLJHX/NknTNn//wGBVkhcgmNQZFCI5SYmyberbsuTZgfLDsLb6u4QQ4ntQABBykfhrG71/YKCgT39xHM4ACQgOk5CoWFV+eN2E5/V3CCHEt6AAIOQiiUS3uxoNlCsACaR/SCNFuWFYBIJD5PjapfpFQgjxLSgACLkEWgx9QYIrVZXclOOqVz9SAc8UAnjuJ25Xnvbe6S5+hBDiK1AAEHIJhFSsItd/nCBdX5sujQc/LGFxNcVTkKeLAPTGLyo+VLVdT3E4z+ziRwghvgAFACGXQdU23aXJkEel2dDnlQjIT0+RguxMcWmbf1TdZtLi7y/odxJCiG/BUsAsBUxKiLR92yRx1XyVDhhevZ5Uu7K3shQQQqyB1UoBUwBQAJASBvMJ84oQYi3YC4AQ8qdw8yeEmAEKAEIIIcSGUAAQQgghNoQCgBBCCLEhFACEEEKIDaEAIIQQQmwIBQAhhBBiQygACCGEEBtCAUAIIYTYEAoAQgghxIZQABBCCCE2hAKAEEIIsSEUAIQQQogNoQAghBBCbAgFACGEEGJDKAAIIYQQG0IBQAghhNgQCgBCCCHEhlAAEEIIITaEAoAQQgixIRQAhBBCyAUQFBQkfn5++ivz41eooT+3Jfhljhs3TnJzc/Ur5UNYWJjk5eWJy+XSr5gLs39+EBkZKenp6for82H2zw/4OyhfnE6n2uSysrL0K+aiND8//uwtW7bIgQMHZOnSpfpVc2N7C8Bzzz1X7pt/YGCgvPbaa/L777+rSWY2zP75QXBwsDz00EPq72JGhW/2z4/PjM+OvwP+LmbD7J8f4LuL7zC+y/i7mI3S/vw43FxxxRXyyCOP6FfMj+0tAL5C7969ZcyYMdKmTRv9irkw++cHDodDPB6P/sp8mP3zA/4Oype1a9fK008/LT/99JN+xVyY/fOXNYwB8BFycnLUMCtm//zA7FrYClqev4PyheuQvaAA8BHq1asnISEh+ivzYfbPDxo1aqQ/Mydm//yAv4PyBd9hfJfNitk/f1lDF4CPsH//fomLizPtJmr2zw+2bt0qTZo00V+ZD7N/fsDfQfmC0/Px48eldu3a+hVzYfbPX9ZQABBCCCE2hC4AQgghxIZQABBCCCE2hC4AH2Hfvn2qJsGdd94p1113nX7V95kwYYJ89913Kke2oKBAWrRoIW+99Zb+rjnYtWuXvP3227Jnzx658sor5YknnpDw8HD9Xd8G/s6hQ4eq1DPkogcEBEjdunVVPrpZgqGSk5Pl3XfflTVr1kj9+vXlH//4h/o7mI1FixbJRx99JP7+/vLAAw/I1Vdfrb/jmxw9elTef/992bFjh/zlL39R8whpjGDv3r3yxhtvyJEjR9T1/v37q+u+xLk+f1pamsyYMUMWL16sCjPh74HiQOSP0ALgI7z88ssyZcoUlcdqJpBviy/dqFGj5JlnnpHbbrtNf8ccoKoXFg8EMD766KNSq1Ytyc7O1t/1fSpUqCAPP/yw+uzPPvustGzZUqZPn24aAYMiXPfee69s3rxZbfz5+fkyePBgtfGYCWw4gwYNUqNLly5yxx13yKZNm/R3fZPt27fLwYMHJSUlRebMmXMqhRH/9jfffLMSlP369ZMHH3xQ/f18jXN9foji3377TWrWrKkEgpmrk5Y6sACQ8kXbPAvHjRtXeMstt6jnZmLIkCGFd911V6F2ilPDbPTo0aNwzJgxhTk5OYWHDh3Sr5qXTp06Fb7wwgv6K98nMTGxUBMthdqCrV5nZGQUtmnTpvDnn39Wr81Ct27dCsePH6+/Kix85ZVXCnv16qW/8m0+/vjjwgEDBhS63W71+r333ivs3bu3eg4mT55cqImawszMTP2Kb1H883uDLS4rK0t/RYpDC0A58+uvv8ovv/yiTnDa78N0hUSgslEfGyefDh06yJdffqm/Yw5gtl2+fLk66WgCTO655x51CjUjcMFgPsEUahYqV64sAwcOVGbaDz74QFkzunbtKu3bt9fvMAf4e6xevVp/Jepkit+FGTBKoRslpGFShyXJAFYxfCc0AaBf8S3OVcrdrN/jsoQCoJx58sknlf8ZZnT4b+GzMhPwNc+fP1/mzp0r//3vf+Vvf/ubimcwExUrVpTvv/9elixZogTB559/rr9jLl5//XUVw2CmQiiY95UqVVKuGGw88D1rJ7lTm5FZwPd45cqV0r17d7nhhhtk27Zt6u9hJox/c2z0aO5lgLr6EJdm+/uQ80MBUI4g6Amn/3bt2klERIR8/fXX6gR0//3363f4PtWrV1efHY04OnfurJplLFu2TH/XHFx//fUqSAhNXGAJgEXAjPzrX/+SV155RX9lDiAWx48fr4LnIISnTp0q69atk9mzZ+t3mIO2bduqeY9YmLFjxyohXK1aNf1dc4G4koyMDP1V0UkahxNfb/RVXDQar80mJssSCoByBI1zTp48qRbB1NRUFf3/1FNPyYcffqjf4fsggtsACwVOcWY6gSIA0HvDhxk3Pj5ef2UevvrqK5UJYKYMEoAALQRxGZsLLAL4e+DEaSbweaOiolQAYNOmTZUr7K677tLf9W2QtYB/d4OOHTsqa1hSUpJ6vXDhQiVmYmJi1Gtfw/j8xTd64+/k/XcjZ8I0QB+iZ8+e6suHU4RZ6Natmzr94AQNVwBM0DjRmQVYYYYNG6asF9iMYLrF6TM6Olq/wxzAb37VVVcpX7qZgP92xIgRygWAuY9Suvg9fPLJJyozwywg6nzixInKGrZ+/Xp1YoY1w5dLY584cUJ1ztu4caM6hPTt21eGDBmi3BjIYoCogYUvISFB3nnnHSVufImzff5bb71VrrnmGpVWiiwBuCURE4PDFuJ7zNqqubSgAPAhFixYILGxsWcE4Pg6qAGAgCeobwQEwoRuNpCuBfMtFm0EAvrqSedc5OXlKdGCvPMqVaroV80DfM4QjxAB+Pw9evRQ3wMzAQvevHnzJDExUX0P+vTpo8SAL4N8+f/85z9K7OIUjdfY5BHMC8seUutgnYHIR30PX+Nsnx+ftXXr1vLtt9+qdEbEVOF6nTp11NqE7zg5DQUAIYQQYkPoHCGEEEJsCAUAIYQQYkMoAAghhBAbQgFACCGE2BAKAEIIIcSGUAAQQgghNoQCgBBCCLEhFACEEEKIDaEAIIQQQmwIBQAhhBBiQygACCGEEBtCAUAIIYTYEAoAQgghxIZQABBCCCE2hAKAEEIIsSEUAIQQQogNoQAghBBCbAgFACGEEGJDKAAIIYQQG0IBQAghhNgQCgBCCCHEhlAAEEIIITaEAoAQQgixIRQAhBBCiO0Q+X8yTwiOt8i/aAAAAABJRU5ErkJggg==)"
      ],
      "metadata": {
        "id": "bjwRbPQrY1VS"
      }
    },
    {
      "cell_type": "code",
      "source": [
        "from sklearn.svm import SVC\n",
        "from sklearn.metrics import confusion_matrix, ConfusionMatrixDisplay\n",
        "from sklearn.metrics import accuracy_score\n",
        "# Applying the support vector classification method\n",
        "svc = SVC(kernel=\"linear\")\n",
        "\n",
        "# Fit the support vector classifier from the training dataset.\n",
        "svc.fit(X_train, y_train)\n",
        "\n",
        "# Predict the labels for the test data on the basis of the trained model\n",
        "y_pred = svc.predict(X_test)"
      ],
      "metadata": {
        "id": "HvtJwFR4UnFp"
      },
      "execution_count": null,
      "outputs": []
    },
    {
      "cell_type": "markdown",
      "source": [
        "There are several learning methods under the Scikit-learn library. For detailed information about supervised methods click: https://scikit-learn.org/stable/supervised_learning.html and for unsupervised methods click: https://scikit-learn.org/stable/unsupervised_learning.html\n",
        "\n"
      ],
      "metadata": {
        "id": "OhRveLIEY8BV"
      }
    },
    {
      "cell_type": "markdown",
      "metadata": {
        "id": "woHDCO6HSi3X"
      },
      "source": [
        "## Classification Model Evaluation Metrics"
      ]
    },
    {
      "cell_type": "markdown",
      "metadata": {
        "id": "xKa9aONJSi3Y"
      },
      "source": [
        "### Confusion Matrix"
      ]
    },
    {
      "cell_type": "code",
      "source": [
        "from sklearn.metrics import confusion_matrix, ConfusionMatrixDisplay\n",
        "from sklearn.metrics import accuracy_score\n",
        "\n",
        "# Display the confusion matrix for the model predictions on the test dataset.\n",
        "cm = confusion_matrix(y_test,y_pred)\n",
        "disp = ConfusionMatrixDisplay(confusion_matrix=cm)\n",
        "disp.plot()"
      ],
      "metadata": {
        "id": "tFZh3xQLIyLb"
      },
      "execution_count": null,
      "outputs": []
    },
    {
      "cell_type": "markdown",
      "source": [
        "We can see that out of\n",
        "60 observations with label 0 (spreading), our model has correctly predicted 57 observations. Similarly out of\n",
        "111 observations with label 1 (non-spreading), our model has correctly predicted 106 observations.\n",
        "\n",
        "It is important to look at the distribution of misclassifications across classes to validate a trained model. Confusion matrix is a good way to see.\n",
        "\n",
        "Confusion matrix is useful for measuring some other evaluation methods such as Recall, Precision, and Accuracy."
      ],
      "metadata": {
        "id": "YJXAnEB5FN9G"
      }
    },
    {
      "cell_type": "markdown",
      "metadata": {
        "id": "dLlOgmXWSi3Y"
      },
      "source": [
        "### True Positive, False Positive, True Negative and False Negative"
      ]
    },
    {
      "cell_type": "code",
      "execution_count": null,
      "metadata": {
        "id": "-bOgLhEjSi3Z"
      },
      "outputs": [],
      "source": [
        "# True Positive (TP): This is the count of the total number of instances from the\n",
        "#positive class where the true class label was equal to the predicted class label.\n",
        "TP = 106\n",
        "\n",
        "# False Positive (FP): This is the count of the total number of instances from the\n",
        "#negative class where our model misclassified them by predicting them as positive.\n",
        "FP = 5\n",
        "\n",
        "# True Negative (FN): This is the count of the total number of instances from the\n",
        "# negative class where the true class label was equal to the predicted class label.\n",
        "TN = 57\n",
        "\n",
        "# False Negative (FN): This is the count of the total number of instances from the\n",
        "# positive class where our model misclassified them by predicting them as negative.\n",
        "FN = 3"
      ]
    },
    {
      "cell_type": "markdown",
      "metadata": {
        "id": "lp2pZEo7Si3Z"
      },
      "source": [
        "### Accuracy\n",
        "\n",
        "This is one of the most popular measures of classifier performance. It is defined as the overall proportion of correct predictions of the model. The formula for computing accuracy from the\n",
        "confusion matrix is:\n",
        "\n",
        "$Accurcy=\\frac{TP+TN}{TP+FP+TN+FN}$"
      ]
    },
    {
      "cell_type": "code",
      "execution_count": null,
      "metadata": {
        "id": "hLjfbgD6Si3Z"
      },
      "outputs": [],
      "source": [
        "fw_acc = round(metrics.accuracy_score(y_true=y_test, y_pred=y_pred), 5)\n",
        "mc_acc = round((TP + TN) / (TP + TN + FP + FN), 5)\n",
        "print('Framework Accuracy:', fw_acc)\n",
        "print('Manually Computed Accuracy:', mc_acc)"
      ]
    },
    {
      "cell_type": "markdown",
      "metadata": {
        "id": "4pjMVMm-Si3Z"
      },
      "source": [
        "### Precision\n",
        "\n",
        "Precision, also known as positive predictive value, is another metric that can be derived from\n",
        "the confusion matrix. It shows from all the classes we have predicted as positive, how many are actually positive. It is usable if you want your model to be as correct as possible when it says positive and don’t care too much when it predicts negative. The formula for precision is as follows:\n",
        "\n",
        "$Precision=\\frac{TP}{TP+FP}$\n",
        "\n",
        "Precision becomes important in cases where we are more concerned about finding\n",
        "the maximum number of positive class even if the total accuracy reduces."
      ]
    },
    {
      "cell_type": "code",
      "execution_count": null,
      "metadata": {
        "id": "lfQO98XqSi3a"
      },
      "outputs": [],
      "source": [
        "fw_prec = round(metrics.precision_score(y_true=y_test, y_pred=y_pred), 5)\n",
        "mc_prec = round((TP) / (TP + FP), 5)\n",
        "print('Framework Precision:', fw_prec)\n",
        "print('Manually Computed Precision:', mc_prec)"
      ]
    },
    {
      "cell_type": "markdown",
      "metadata": {
        "id": "1eqq3NrtSi3a"
      },
      "source": [
        "### Recall\n",
        "\n",
        "Recall, also known as sensitivity, is defined as the number of instances of the positive class that were correctly predicted. This is\n",
        "also known as hit rate, coverage, or sensitivity. The formula for recall is:\n",
        "\n",
        "$Recall=\\frac{TP}{TP+FN}$\n",
        "\n",
        "Common use of recall is disease detection. If somebody is ill, we need to spot their illness avoiding the false negatives. A false negative patient may become contagious and it’s not safe."
      ]
    },
    {
      "cell_type": "code",
      "execution_count": null,
      "metadata": {
        "id": "nW16OZmISi3a"
      },
      "outputs": [],
      "source": [
        "fw_rec = round(metrics.recall_score(y_true=y_test, y_pred=y_pred), 5)\n",
        "mc_rec = round((TP) / (TP + FN), 5)\n",
        "print('Framework Recall:', fw_rec)\n",
        "print('Manually Computed Recall:', mc_rec)"
      ]
    },
    {
      "cell_type": "markdown",
      "source": [
        "These are common evaluation methods for classification models. You can find detailed list [here](https://scikit-learn.org/stable/modules/model_evaluation.html#classification-metrics)."
      ],
      "metadata": {
        "id": "QUEUyn2vma3i"
      }
    },
    {
      "cell_type": "markdown",
      "source": [
        "# Improving Performance"
      ],
      "metadata": {
        "id": "ExlAeCd5dvjz"
      }
    },
    {
      "cell_type": "markdown",
      "source": [
        "To improve performance of your model, try the following strategies\n",
        "\n",
        "**Strategy 1: Play with data (following are some methods)**\n",
        "- Get more data\n",
        "- Clean your data\n",
        "- Rescale your data\n",
        "- Feature selection\n",
        "- Feature Engineering - change feature extraction method if any\n",
        "\n",
        "**Strategy 2: Avoid overfitting (following are some methods)**\n",
        "\n",
        "Two important methods that you can use when evaluating machine learning algorithms to limit overfitting:\n",
        "- Hold a validation dataset.\n",
        "- Use a resampling technique to estimate model accuracy: uses the same data to build different models and also tune their hyperparameters using a simple data partitioning strategy.\n",
        "\n",
        "**Strategy 3: Change hyperparameters**\n",
        "\n",
        "- Hyperparameters are meta parameters that are associated with any ML algorithm and are usually set before the model training and building process.\n",
        "\n",
        "- Example hyperparameters in ML algorithms\n",
        "\n",
        "    For Support Vector Machine: Different Kernels\n",
        "\n",
        "    For Neural networks: Number of hidden layers and units, Learning rate, Dropout rate, Number of epochs, Batch size\n",
        "\n",
        "**Strategy 4: Try Different Algorithm**\n",
        "\n",
        "Change your Machine Learning algorithm.\n",
        "\n",
        "**Strategy 5: Ensemble Models**\n",
        "\n",
        "Combine the predictions of multiple well-performing models."
      ],
      "metadata": {
        "id": "qjfhTf58japs"
      }
    },
    {
      "cell_type": "markdown",
      "source": [
        "![flowchart2.png](data:image/png;base64,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)"
      ],
      "metadata": {
        "id": "t1DiQjLmUNGu"
      }
    },
    {
      "cell_type": "markdown",
      "source": [
        "# Uploading your data\n",
        "\n",
        "**Don't need to do this in this bootcamp. This is just for information.**\n",
        "\n",
        "There are different options to upload your data to the Colab space.  \n",
        "\n",
        "\n",
        "*   You can use wget command-line tool to upload files from given URL.\n",
        "\n",
        "\n",
        "\n",
        "\n",
        "\n",
        "\n"
      ],
      "metadata": {
        "id": "jKAg5FJtPfjK"
      }
    },
    {
      "cell_type": "markdown",
      "source": [
        "\n",
        "*   You can upload files from your local file system\n",
        "\n"
      ],
      "metadata": {
        "id": "_xWSVdaNfqYJ"
      }
    },
    {
      "cell_type": "code",
      "source": [
        "from google.colab import files\n",
        "uploaded = files.upload()"
      ],
      "metadata": {
        "id": "Swk8TKdia5YN"
      },
      "execution_count": null,
      "outputs": []
    },
    {
      "cell_type": "markdown",
      "source": [
        "*   You can put your files into your drive and mount your Google drive."
      ],
      "metadata": {
        "id": "YKL-8raThNLV"
      }
    },
    {
      "cell_type": "code",
      "source": [
        "from google.colab import drive\n",
        "drive.mount('/content/drive')"
      ],
      "metadata": {
        "id": "ZF7Uesbzgqn-"
      },
      "execution_count": null,
      "outputs": []
    },
    {
      "cell_type": "markdown",
      "source": [
        "\n",
        "\n",
        "\n",
        "\n",
        "# References\n"
      ],
      "metadata": {
        "id": "ntR7iPeszduI"
      }
    },
    {
      "cell_type": "markdown",
      "source": [
        "\n",
        "- Adapted from Workshop hosted by the UD Chemistry-Biology Interface Program and Center for Bioinformatics and Computational Biology (The Practical AI/ML for Computational Biology and Chemistry Workshop materials are licensed under a [Creative Commons Attribution 4.0 International License](https://creativecommons.org/licenses/by/4.0/).)\n",
        "\n",
        "- Scikit-learn: Machine Learning in Python, Pedregosa et al., JMLR 12, pp. 2825-2830, 2011."
      ],
      "metadata": {
        "id": "7V-UPPxIzhWl"
      }
    }
  ]
}